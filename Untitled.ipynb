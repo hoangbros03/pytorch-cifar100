{
 "cells": [
  {
   "cell_type": "code",
   "execution_count": 6,
   "id": "8f2b86c4-c2a4-44b2-b258-24ae7cc7018e",
   "metadata": {
    "tags": []
   },
   "outputs": [
    {
     "name": "stdout",
     "output_type": "stream",
     "text": [
      "Collecting torchinfo\n",
      "  Downloading torchinfo-1.8.0-py3-none-any.whl (23 kB)\n",
      "Installing collected packages: torchinfo\n",
      "Successfully installed torchinfo-1.8.0\n"
     ]
    }
   ],
   "source": [
    "!pip install torchinfo"
   ]
  },
  {
   "cell_type": "code",
   "execution_count": 1,
   "id": "9236579e-e514-4fa5-8767-38ced3b81edc",
   "metadata": {},
   "outputs": [],
   "source": [
    "import torch\n",
    "import torch.nn as nn\n",
    "import torch.optim as optim\n",
    "import torchvision\n",
    "import torchvision.transforms as transforms\n",
    "import torch.nn.functional as F\n",
    "from utils import get_network, get_training_dataloader, get_test_dataloader, WarmUpLR, \\\n",
    "    most_recent_folder, most_recent_weights, last_epoch, best_acc_weights\n",
    "from conf import settings\n"
   ]
  },
  {
   "cell_type": "code",
   "execution_count": 5,
   "id": "ce0db86b-faef-4bd4-b577-1f4909deb94f",
   "metadata": {
    "tags": []
   },
   "outputs": [
    {
     "name": "stdout",
     "output_type": "stream",
     "text": [
      "Files already downloaded and verified\n",
      "Files already downloaded and verified\n"
     ]
    }
   ],
   "source": [
    "cifar100_training_loader = get_training_dataloader(\n",
    "        settings.CIFAR100_TRAIN_MEAN,\n",
    "        settings.CIFAR100_TRAIN_STD,\n",
    "        num_workers=4,\n",
    "        batch_size=512,\n",
    "        shuffle=True\n",
    "    )\n",
    "\n",
    "cifar100_test_loader = get_test_dataloader(\n",
    "    settings.CIFAR100_TRAIN_MEAN,\n",
    "    settings.CIFAR100_TRAIN_STD,\n",
    "    num_workers=4,\n",
    "    batch_size=512,\n",
    "    shuffle=True\n",
    ")"
   ]
  },
  {
   "cell_type": "code",
   "execution_count": 2,
   "id": "22e3f04e-7c9b-4bbb-994b-d495fea4fabf",
   "metadata": {
    "tags": []
   },
   "outputs": [
    {
     "data": {
      "text/plain": [
       "==========================================================================================\n",
       "Layer (type:depth-idx)                   Output Shape              Param #\n",
       "==========================================================================================\n",
       "VGG                                      [1, 100]                  --\n",
       "├─Sequential: 1-1                        [1, 512, 1, 1]            --\n",
       "│    └─Conv2d: 2-1                       [1, 64, 32, 32]           1,792\n",
       "│    └─BatchNorm2d: 2-2                  [1, 64, 32, 32]           128\n",
       "│    └─ReLU: 2-3                         [1, 64, 32, 32]           --\n",
       "│    └─Conv2d: 2-4                       [1, 64, 32, 32]           36,928\n",
       "│    └─BatchNorm2d: 2-5                  [1, 64, 32, 32]           128\n",
       "│    └─ReLU: 2-6                         [1, 64, 32, 32]           --\n",
       "│    └─MaxPool2d: 2-7                    [1, 64, 16, 16]           --\n",
       "│    └─Conv2d: 2-8                       [1, 128, 16, 16]          73,856\n",
       "│    └─BatchNorm2d: 2-9                  [1, 128, 16, 16]          256\n",
       "│    └─ReLU: 2-10                        [1, 128, 16, 16]          --\n",
       "│    └─Conv2d: 2-11                      [1, 128, 16, 16]          147,584\n",
       "│    └─BatchNorm2d: 2-12                 [1, 128, 16, 16]          256\n",
       "│    └─ReLU: 2-13                        [1, 128, 16, 16]          --\n",
       "│    └─MaxPool2d: 2-14                   [1, 128, 8, 8]            --\n",
       "│    └─Conv2d: 2-15                      [1, 256, 8, 8]            295,168\n",
       "│    └─BatchNorm2d: 2-16                 [1, 256, 8, 8]            512\n",
       "│    └─ReLU: 2-17                        [1, 256, 8, 8]            --\n",
       "│    └─Conv2d: 2-18                      [1, 256, 8, 8]            590,080\n",
       "│    └─BatchNorm2d: 2-19                 [1, 256, 8, 8]            512\n",
       "│    └─ReLU: 2-20                        [1, 256, 8, 8]            --\n",
       "│    └─Conv2d: 2-21                      [1, 256, 8, 8]            590,080\n",
       "│    └─BatchNorm2d: 2-22                 [1, 256, 8, 8]            512\n",
       "│    └─ReLU: 2-23                        [1, 256, 8, 8]            --\n",
       "│    └─MaxPool2d: 2-24                   [1, 256, 4, 4]            --\n",
       "│    └─Conv2d: 2-25                      [1, 512, 4, 4]            1,180,160\n",
       "│    └─BatchNorm2d: 2-26                 [1, 512, 4, 4]            1,024\n",
       "│    └─ReLU: 2-27                        [1, 512, 4, 4]            --\n",
       "│    └─Conv2d: 2-28                      [1, 512, 4, 4]            2,359,808\n",
       "│    └─BatchNorm2d: 2-29                 [1, 512, 4, 4]            1,024\n",
       "│    └─ReLU: 2-30                        [1, 512, 4, 4]            --\n",
       "│    └─Conv2d: 2-31                      [1, 512, 4, 4]            2,359,808\n",
       "│    └─BatchNorm2d: 2-32                 [1, 512, 4, 4]            1,024\n",
       "│    └─ReLU: 2-33                        [1, 512, 4, 4]            --\n",
       "│    └─MaxPool2d: 2-34                   [1, 512, 2, 2]            --\n",
       "│    └─Conv2d: 2-35                      [1, 512, 2, 2]            2,359,808\n",
       "│    └─BatchNorm2d: 2-36                 [1, 512, 2, 2]            1,024\n",
       "│    └─ReLU: 2-37                        [1, 512, 2, 2]            --\n",
       "│    └─Conv2d: 2-38                      [1, 512, 2, 2]            2,359,808\n",
       "│    └─BatchNorm2d: 2-39                 [1, 512, 2, 2]            1,024\n",
       "│    └─ReLU: 2-40                        [1, 512, 2, 2]            --\n",
       "│    └─Conv2d: 2-41                      [1, 512, 2, 2]            2,359,808\n",
       "│    └─BatchNorm2d: 2-42                 [1, 512, 2, 2]            1,024\n",
       "│    └─ReLU: 2-43                        [1, 512, 2, 2]            --\n",
       "│    └─MaxPool2d: 2-44                   [1, 512, 1, 1]            --\n",
       "├─Sequential: 1-2                        [1, 100]                  --\n",
       "│    └─Linear: 2-45                      [1, 4096]                 2,101,248\n",
       "│    └─ReLU: 2-46                        [1, 4096]                 --\n",
       "│    └─Dropout: 2-47                     [1, 4096]                 --\n",
       "│    └─Linear: 2-48                      [1, 4096]                 16,781,312\n",
       "│    └─ReLU: 2-49                        [1, 4096]                 --\n",
       "│    └─Dropout: 2-50                     [1, 4096]                 --\n",
       "│    └─Linear: 2-51                      [1, 100]                  409,700\n",
       "==========================================================================================\n",
       "Total params: 34,015,396\n",
       "Trainable params: 34,015,396\n",
       "Non-trainable params: 0\n",
       "Total mult-adds (M): 332.77\n",
       "==========================================================================================\n",
       "Input size (MB): 0.01\n",
       "Forward/backward pass size (MB): 4.49\n",
       "Params size (MB): 136.06\n",
       "Estimated Total Size (MB): 140.56\n",
       "=========================================================================================="
      ]
     },
     "execution_count": 2,
     "metadata": {},
     "output_type": "execute_result"
    }
   ],
   "source": [
    "from torchinfo import summary\n",
    "from models.vgg import vgg16_bn\n",
    "teacher_net = vgg16_bn()\n",
    "summary(teacher_net, input_size=(1,3,32,32))"
   ]
  },
  {
   "cell_type": "code",
   "execution_count": 28,
   "id": "337e161c-a6cf-4766-9537-1d12a8bb09b6",
   "metadata": {
    "tags": []
   },
   "outputs": [],
   "source": [
    "class MyCompressNet(nn.Module):\n",
    "    def __init__(self, num_channels = 64, dr_rate = 0.3):\n",
    "        super(MyCompressNet, self).__init__()\n",
    "        self.num_channels = num_channels\n",
    "        self.conv1 = nn.Conv2d(3, self.num_channels, 3, stride=1, padding=1)\n",
    "        self.bn1 = nn.BatchNorm2d(self.num_channels)\n",
    "        self.conv2 = nn.Conv2d(self.num_channels, self.num_channels*2, 3, stride=1, padding=1)\n",
    "        self.bn2 = nn.BatchNorm2d(self.num_channels*2)\n",
    "        self.conv3 = nn.Conv2d(self.num_channels*2, self.num_channels*2, 3, stride=1, padding=1)\n",
    "        self.bn3 = nn.BatchNorm2d(self.num_channels*2)\n",
    "        self.conv4 = nn.Conv2d(self.num_channels*2, self.num_channels*4, 3, stride=1, padding=1)\n",
    "        self.bn4 = nn.BatchNorm2d(self.num_channels*4)\n",
    "        self.conv5 = nn.Conv2d(self.num_channels*4, self.num_channels*4, 3, stride=1, padding=1)\n",
    "        self.bn5 = nn.BatchNorm2d(self.num_channels*4)\n",
    "\n",
    "        self.fc1 = nn.Linear(4*4*self.num_channels*4, self.num_channels*4*4)\n",
    "        self.fc2 = nn.Linear(self.num_channels*4*4, self.num_channels*4)\n",
    "        self.fc3 = nn.Linear(self.num_channels*4, self.num_channels*2)\n",
    "        self.fc4 = nn.Linear(self.num_channels*2, 100)      \n",
    "        self.dropout_rate = dr_rate\n",
    "    \n",
    "    def forward(self,x):\n",
    "        \"\"\"\n",
    "        Forward function\n",
    "        \"\"\"\n",
    "        x = self.bn1(self.conv1(x))\n",
    "        x = F.relu(F.max_pool2d(x,2))\n",
    "        x = self.bn2(self.conv2(x))\n",
    "        x = F.relu(x)\n",
    "        x = self.bn3(self.conv3(x))\n",
    "        x = F.relu(F.max_pool2d(x,2))\n",
    "        x = self.bn4(self.conv4(x))\n",
    "        x = F.relu(x)\n",
    "        x = self.bn5(self.conv5(x))\n",
    "        x = F.relu(F.max_pool2d(x,2))\n",
    "        x = x.view(-1, 4*4*self.num_channels*4)\n",
    "        x = F.relu(self.fc1(x))\n",
    "        x = F.dropout(x, p = self.dropout_rate)\n",
    "        x = F.relu(self.fc2(x))\n",
    "        x = F.dropout(x, p = self.dropout_rate)\n",
    "        x = F.relu(self.fc3(x))\n",
    "        x = self.fc4(x)\n",
    "        return x\n",
    "        \n",
    "        "
   ]
  },
  {
   "cell_type": "code",
   "execution_count": 4,
   "id": "d9a3cee0-0d2e-49c5-b00a-2440054a9272",
   "metadata": {
    "tags": []
   },
   "outputs": [],
   "source": [
    "class MyCompressNet2(nn.Module):\n",
    "    def __init__(self, num_channels = 64, dr_rate = 0.3):\n",
    "        super(MyCompressNet2, self).__init__()\n",
    "        self.num_channels = num_channels\n",
    "        self.conv1 = nn.Conv2d(3, self.num_channels, 3, stride=1, padding=1)\n",
    "        self.bn1 = nn.BatchNorm2d(self.num_channels)\n",
    "        self.conv2 = nn.Conv2d(self.num_channels, self.num_channels*2, 3, stride=1, padding=1)\n",
    "        self.bn2 = nn.BatchNorm2d(self.num_channels*2)\n",
    "        self.conv3 = nn.Conv2d(self.num_channels*2, self.num_channels*2, 3, stride=1, padding=1)\n",
    "        self.bn3 = nn.BatchNorm2d(self.num_channels*2)\n",
    "        self.conv4 = nn.Conv2d(self.num_channels*2, self.num_channels*4, 3, stride=1, padding=1)\n",
    "        self.bn4 = nn.BatchNorm2d(self.num_channels*4)\n",
    "        self.conv5 = nn.Conv2d(self.num_channels*4, self.num_channels*4, 3, stride=1, padding=1)\n",
    "        self.bn5 = nn.BatchNorm2d(self.num_channels*4)\n",
    "        self.conv6 = nn.Conv2d(self.num_channels*4, self.num_channels*4, 3, stride=1, padding=1)\n",
    "        self.bn6 = nn.BatchNorm2d(self.num_channels*4)\n",
    "        self.conv7 = nn.Conv2d(self.num_channels*4, self.num_channels*4, 3, stride=1, padding=1)\n",
    "        self.bn7 = nn.BatchNorm2d(self.num_channels*4)\n",
    "\n",
    "        self.fc1 = nn.Linear(4*4*self.num_channels*4, self.num_channels*4*4)\n",
    "        self.fc2 = nn.Linear(self.num_channels*4*4, self.num_channels*4*4)\n",
    "        self.fc3 = nn.Linear(self.num_channels*4*4, self.num_channels*4)\n",
    "        self.fc4 = nn.Linear(self.num_channels*4, self.num_channels*4)\n",
    "        self.fc5 = nn.Linear(self.num_channels*4, self.num_channels*2)\n",
    "        self.fc6 = nn.Linear(self.num_channels*2, 100)      \n",
    "        self.dropout_rate = dr_rate\n",
    "    \n",
    "    def forward(self,x):\n",
    "        \"\"\"\n",
    "        Forward function\n",
    "        \"\"\"\n",
    "        x = self.bn1(self.conv1(x))\n",
    "        x = F.relu(F.max_pool2d(x,2))\n",
    "        x = self.bn2(self.conv2(x))\n",
    "        x = F.relu(x)\n",
    "        x = self.bn3(self.conv3(x))\n",
    "        x = F.relu(F.max_pool2d(x,2))\n",
    "        x = self.bn4(self.conv4(x))\n",
    "        x = F.relu(x)\n",
    "        x = self.bn5(self.conv5(x))\n",
    "        x = F.relu(F.max_pool2d(x,2))\n",
    "        x = self.bn6(self.conv6(x))\n",
    "        x = F.relu(x)\n",
    "        x = self.bn7(self.conv7(x))\n",
    "        x = F.relu(x)\n",
    "        x = x.view(-1, 4*4*self.num_channels*4)\n",
    "        x = F.relu(self.fc1(x))\n",
    "        x = F.dropout(x, p = self.dropout_rate)\n",
    "        x = F.relu(self.fc2(x))\n",
    "        x = F.relu(self.fc3(x))\n",
    "        x = F.relu(self.fc4(x))\n",
    "        x = F.dropout(x, p = self.dropout_rate)\n",
    "        x = F.relu(self.fc5(x))\n",
    "        x = self.fc6(x)\n",
    "        return x\n",
    "        \n",
    "        "
   ]
  },
  {
   "cell_type": "code",
   "execution_count": 30,
   "id": "10695ec8-c4a9-43a3-9133-881a92c9e309",
   "metadata": {
    "tags": []
   },
   "outputs": [],
   "source": [
    "class MyCompressNet3(nn.Module):\n",
    "    def __init__(self, num_channels = 64, dr_rate = 0.3):\n",
    "        super(MyCompressNet3, self).__init__()\n",
    "        self.num_channels = num_channels\n",
    "        self.conv1 = nn.Conv2d(3, self.num_channels, 3, stride=1, padding=1)\n",
    "        self.bn1 = nn.BatchNorm2d(self.num_channels)\n",
    "        self.conv2 = nn.Conv2d(self.num_channels, self.num_channels*2, 3, stride=1, padding=1)\n",
    "        self.bn2 = nn.BatchNorm2d(self.num_channels*2)\n",
    "        self.conv3 = nn.Conv2d(self.num_channels*2, self.num_channels*2, 1, stride=1, padding='same')\n",
    "        self.bn3 = nn.BatchNorm2d(self.num_channels*2)\n",
    "        self.conv4 = nn.Conv2d(self.num_channels*2, self.num_channels*4, 3, stride=1, padding=1)\n",
    "        self.bn4 = nn.BatchNorm2d(self.num_channels*4)\n",
    "        self.conv5 = nn.Conv2d(self.num_channels*4, self.num_channels*4, 1, stride=1, padding='same')\n",
    "        self.bn5 = nn.BatchNorm2d(self.num_channels*4)\n",
    "        self.conv6 = nn.Conv2d(self.num_channels*4, self.num_channels*4, 3, stride=1, padding=1)\n",
    "        self.bn6 = nn.BatchNorm2d(self.num_channels*4)\n",
    "        self.conv7 = nn.Conv2d(self.num_channels*4, self.num_channels*8, 3, stride=1, padding=1)\n",
    "        self.bn7 = nn.BatchNorm2d(self.num_channels*8)\n",
    "        self.conv8 = nn.Conv2d(self.num_channels*8, self.num_channels*8, 1, stride=1, padding='same')\n",
    "        self.bn8 = nn.BatchNorm2d(self.num_channels*8)\n",
    "        \n",
    "        self.fc1 = nn.Linear(4*4*self.num_channels*8, self.num_channels*4*4)\n",
    "        self.fc2 = nn.Linear(self.num_channels*4*4, self.num_channels*4*4)\n",
    "        self.fc3 = nn.Linear(self.num_channels*4*4, self.num_channels*4)\n",
    "        self.fc4 = nn.Linear(self.num_channels*4, self.num_channels*4)\n",
    "        self.fc5 = nn.Linear(self.num_channels*4, self.num_channels*2)\n",
    "        self.fc6 = nn.Linear(self.num_channels*2, 100)      \n",
    "        self.dropout_rate = dr_rate\n",
    "    \n",
    "    def forward(self,x):\n",
    "        \"\"\"\n",
    "        Forward function\n",
    "        \"\"\"\n",
    "        x = self.bn1(self.conv1(x))\n",
    "        x = F.relu(F.max_pool2d(x,2))\n",
    "        x = self.bn2(self.conv2(x))\n",
    "        x = F.relu(x)\n",
    "        x = self.bn3(self.conv3(x))\n",
    "        x = F.relu(F.max_pool2d(x,2))\n",
    "        x = self.bn4(self.conv4(x))\n",
    "        x = F.relu(x)\n",
    "        x = self.bn5(self.conv5(x))\n",
    "        x = F.relu(F.max_pool2d(x,2))\n",
    "        x = self.bn6(self.conv6(x))\n",
    "        x = F.relu(x)\n",
    "        x = self.bn7(self.conv7(x))\n",
    "        x = F.relu(x)\n",
    "        x = self.bn8(self.conv8(x))\n",
    "        x = F.relu(x)\n",
    "        x = x.view(-1, 4*4*self.num_channels*8)\n",
    "        x = F.relu(self.fc1(x))\n",
    "        x = F.dropout(x, p = self.dropout_rate)\n",
    "        x = F.relu(self.fc2(x))\n",
    "        x = F.relu(self.fc3(x))\n",
    "        x = F.relu(self.fc4(x))\n",
    "        x = F.dropout(x, p = self.dropout_rate)\n",
    "        x = F.relu(self.fc5(x))\n",
    "        x = self.fc6(x)\n",
    "        return x\n",
    "        \n",
    "        "
   ]
  },
  {
   "cell_type": "code",
   "execution_count": 32,
   "id": "e8f6fede-7e06-4f0c-83c9-dfe3583b3993",
   "metadata": {
    "tags": []
   },
   "outputs": [
    {
     "data": {
      "text/plain": [
       "==========================================================================================\n",
       "Layer (type:depth-idx)                   Output Shape              Param #\n",
       "==========================================================================================\n",
       "MyCompressNet3                           [1, 100]                  --\n",
       "├─Conv2d: 1-1                            [1, 64, 32, 32]           1,792\n",
       "├─BatchNorm2d: 1-2                       [1, 64, 32, 32]           128\n",
       "├─Conv2d: 1-3                            [1, 128, 16, 16]          73,856\n",
       "├─BatchNorm2d: 1-4                       [1, 128, 16, 16]          256\n",
       "├─Conv2d: 1-5                            [1, 128, 16, 16]          16,512\n",
       "├─BatchNorm2d: 1-6                       [1, 128, 16, 16]          256\n",
       "├─Conv2d: 1-7                            [1, 256, 8, 8]            295,168\n",
       "├─BatchNorm2d: 1-8                       [1, 256, 8, 8]            512\n",
       "├─Conv2d: 1-9                            [1, 256, 8, 8]            65,792\n",
       "├─BatchNorm2d: 1-10                      [1, 256, 8, 8]            512\n",
       "├─Conv2d: 1-11                           [1, 256, 4, 4]            590,080\n",
       "├─BatchNorm2d: 1-12                      [1, 256, 4, 4]            512\n",
       "├─Conv2d: 1-13                           [1, 512, 4, 4]            1,180,160\n",
       "├─BatchNorm2d: 1-14                      [1, 512, 4, 4]            1,024\n",
       "├─Conv2d: 1-15                           [1, 512, 4, 4]            262,656\n",
       "├─BatchNorm2d: 1-16                      [1, 512, 4, 4]            1,024\n",
       "├─Linear: 1-17                           [1, 1024]                 8,389,632\n",
       "├─Linear: 1-18                           [1, 1024]                 1,049,600\n",
       "├─Linear: 1-19                           [1, 256]                  262,400\n",
       "├─Linear: 1-20                           [1, 256]                  65,792\n",
       "├─Linear: 1-21                           [1, 128]                  32,896\n",
       "├─Linear: 1-22                           [1, 100]                  12,900\n",
       "==========================================================================================\n",
       "Total params: 12,303,460\n",
       "Trainable params: 12,303,460\n",
       "Non-trainable params: 0\n",
       "Total mult-adds (M): 90.41\n",
       "==========================================================================================\n",
       "Input size (MB): 0.01\n",
       "Forward/backward pass size (MB): 2.97\n",
       "Params size (MB): 49.21\n",
       "Estimated Total Size (MB): 52.20\n",
       "=========================================================================================="
      ]
     },
     "execution_count": 32,
     "metadata": {},
     "output_type": "execute_result"
    }
   ],
   "source": [
    "x = MyCompressNet3()\n",
    "summary(x, input_size=(1,3,32,32))"
   ]
  },
  {
   "cell_type": "code",
   "execution_count": 46,
   "id": "8d56cf18-ad18-43fb-85d7-6917b2a86348",
   "metadata": {
    "tags": []
   },
   "outputs": [
    {
     "name": "stdout",
     "output_type": "stream",
     "text": [
      "torch.Size([1, 100])\n"
     ]
    }
   ],
   "source": [
    "print(x(torch.rand(1,3,32,32)).shape)"
   ]
  },
  {
   "cell_type": "code",
   "execution_count": 47,
   "id": "e1e40f3f-28d4-4568-babd-9aa2b8a24696",
   "metadata": {
    "tags": []
   },
   "outputs": [],
   "source": [
    "# Loss functions definition\n",
    "def loss_fn(outputs, labels):\n",
    "    return nn.CrossEntropyLoss()(outputs, labels)\n",
    "\n",
    "def loss_fn_kd(student_outputs, labels, teacher_outputs, alpha = 0.9, T=0.01):\n",
    "    return nn.KLDivLoss()(F.log_softmax(outputs/T, dim=1),\n",
    "                             F.softmax(teacher_outputs/T, dim=1)) * (alpha * T * T) + \\\n",
    "              F.cross_entropy(outputs, labels) * (1. - alpha)"
   ]
  },
  {
   "cell_type": "code",
   "execution_count": null,
   "id": "84d2b394-2d0d-4628-9be1-d22939c5d5c2",
   "metadata": {},
   "outputs": [],
   "source": []
  }
 ],
 "metadata": {
  "kernelspec": {
   "display_name": "default:Python",
   "language": "python",
   "name": "conda-env-default-py"
  },
  "language_info": {
   "codemirror_mode": {
    "name": "ipython",
    "version": 3
   },
   "file_extension": ".py",
   "mimetype": "text/x-python",
   "name": "python",
   "nbconvert_exporter": "python",
   "pygments_lexer": "ipython3",
   "version": "3.9.16"
  }
 },
 "nbformat": 4,
 "nbformat_minor": 5
}
