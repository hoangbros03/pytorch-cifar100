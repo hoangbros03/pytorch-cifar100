{
 "cells": [
  {
   "cell_type": "code",
   "execution_count": 74,
   "id": "f342a45d-c3d4-476c-ab84-9bbcdf35d3dc",
   "metadata": {
    "tags": []
   },
   "outputs": [],
   "source": [
    "import torch\n",
    "import torch.nn as nn\n",
    "import torch.optim as optim\n",
    "import torchvision\n",
    "import torchvision.transforms as transforms\n",
    "import torch.nn.functional as F\n",
    "from utils import get_network, get_training_dataloader, get_test_dataloader, WarmUpLR, \\\n",
    "    most_recent_folder, most_recent_weights, last_epoch, best_acc_weights, get_student_network\n",
    "from conf import settings\n",
    "from models.vgg import vgg16_bn\n",
    "from torch.profiler import profile, record_function, ProfilerActivity\n",
    "import copy\n",
    "from torchinfo import summary"
   ]
  },
  {
   "cell_type": "code",
   "execution_count": 71,
   "id": "83efc47c-d9a6-4b79-9ecd-49108f25965a",
   "metadata": {
    "tags": []
   },
   "outputs": [
    {
     "name": "stdout",
     "output_type": "stream",
     "text": [
      "Requirement already satisfied: gdown in /home/studio-lab-user/.conda/envs/default/lib/python3.9/site-packages (4.7.1)\n",
      "Requirement already satisfied: filelock in /home/studio-lab-user/.conda/envs/default/lib/python3.9/site-packages (from gdown) (3.12.2)\n",
      "Requirement already satisfied: requests[socks] in /home/studio-lab-user/.conda/envs/default/lib/python3.9/site-packages (from gdown) (2.31.0)\n",
      "Requirement already satisfied: beautifulsoup4 in /home/studio-lab-user/.conda/envs/default/lib/python3.9/site-packages (from gdown) (4.12.0)\n",
      "Requirement already satisfied: six in /home/studio-lab-user/.conda/envs/default/lib/python3.9/site-packages (from gdown) (1.16.0)\n",
      "Requirement already satisfied: tqdm in /home/studio-lab-user/.conda/envs/default/lib/python3.9/site-packages (from gdown) (4.65.0)\n",
      "Requirement already satisfied: soupsieve>1.2 in /home/studio-lab-user/.conda/envs/default/lib/python3.9/site-packages (from beautifulsoup4->gdown) (2.3.2.post1)\n",
      "Requirement already satisfied: charset-normalizer<4,>=2 in /home/studio-lab-user/.conda/envs/default/lib/python3.9/site-packages (from requests[socks]->gdown) (3.2.0)\n",
      "Requirement already satisfied: certifi>=2017.4.17 in /home/studio-lab-user/.conda/envs/default/lib/python3.9/site-packages (from requests[socks]->gdown) (2023.7.22)\n",
      "Requirement already satisfied: urllib3<3,>=1.21.1 in /home/studio-lab-user/.conda/envs/default/lib/python3.9/site-packages (from requests[socks]->gdown) (2.0.4)\n",
      "Requirement already satisfied: idna<4,>=2.5 in /home/studio-lab-user/.conda/envs/default/lib/python3.9/site-packages (from requests[socks]->gdown) (3.4)\n",
      "Requirement already satisfied: PySocks!=1.5.7,>=1.5.6 in /home/studio-lab-user/.conda/envs/default/lib/python3.9/site-packages (from requests[socks]->gdown) (1.7.1)\n"
     ]
    }
   ],
   "source": [
    "!pip install gdown"
   ]
  },
  {
   "cell_type": "code",
   "execution_count": 72,
   "id": "293488ae-0f49-4a1b-9d9b-d83ddbb2c86b",
   "metadata": {
    "tags": []
   },
   "outputs": [
    {
     "name": "stdout",
     "output_type": "stream",
     "text": [
      "Downloading...\n",
      "From (uriginal): https://drive.google.com/u/0/uc?id=1R6jazIE1qbubEzO4Wlte32ovI2arwqVc&export=download\n",
      "From (redirected): https://drive.google.com/uc?id=1R6jazIE1qbubEzO4Wlte32ovI2arwqVc&export=download&confirm=t&uuid=dd581aae-6621-4c42-8a24-0a0e29ea88aa\n",
      "To: /home/studio-lab-user/sagemaker-studiolab-notebooks/pytorch-cifar100/v6-200-regular.pth\n",
      "100%|██████████████████████████████████████| 37.1M/37.1M [00:01<00:00, 23.6MB/s]\n"
     ]
    }
   ],
   "source": [
    "!gdown \"https://drive.google.com/u/0/uc?id=1R6jazIE1qbubEzO4Wlte32ovI2arwqVc&export=download\""
   ]
  },
  {
   "cell_type": "code",
   "execution_count": 75,
   "id": "dfbfcab5-bc9f-4326-a24a-2d91385e7ce6",
   "metadata": {
    "tags": []
   },
   "outputs": [
    {
     "ename": "NameError",
     "evalue": "free variable 'MyCompressNet2' referenced before assignment in enclosing scope",
     "output_type": "error",
     "traceback": [
      "\u001b[0;31m---------------------------------------------------------------------------\u001b[0m",
      "\u001b[0;31mNameError\u001b[0m                                 Traceback (most recent call last)",
      "\u001b[0;32m/tmp/ipykernel_140/1778468075.py\u001b[0m in \u001b[0;36m<cell line: 1>\u001b[0;34m()\u001b[0m\n\u001b[0;32m----> 1\u001b[0;31m \u001b[0mnet\u001b[0m \u001b[0;34m=\u001b[0m \u001b[0mget_student_network\u001b[0m\u001b[0;34m(\u001b[0m\u001b[0;34m\"v6\"\u001b[0m\u001b[0;34m)\u001b[0m\u001b[0;34m\u001b[0m\u001b[0;34m\u001b[0m\u001b[0m\n\u001b[0m",
      "\u001b[0;32m~/sagemaker-studiolab-notebooks/pytorch-cifar100/utils.py\u001b[0m in \u001b[0;36mget_student_network\u001b[0;34m(version, num_channels, dr_rate)\u001b[0m\n\u001b[1;32m    530\u001b[0m                 \u001b[0mx\u001b[0m \u001b[0;34m=\u001b[0m \u001b[0mself\u001b[0m\u001b[0;34m.\u001b[0m\u001b[0mfc6\u001b[0m\u001b[0;34m(\u001b[0m\u001b[0mx\u001b[0m\u001b[0;34m)\u001b[0m\u001b[0;34m\u001b[0m\u001b[0;34m\u001b[0m\u001b[0m\n\u001b[1;32m    531\u001b[0m                 \u001b[0;32mreturn\u001b[0m \u001b[0mx\u001b[0m\u001b[0;34m\u001b[0m\u001b[0;34m\u001b[0m\u001b[0m\n\u001b[0;32m--> 532\u001b[0;31m         \u001b[0mstudent_net\u001b[0m \u001b[0;34m=\u001b[0m \u001b[0mMyCompressNet6\u001b[0m\u001b[0;34m(\u001b[0m\u001b[0;34m)\u001b[0m\u001b[0;34m\u001b[0m\u001b[0;34m\u001b[0m\u001b[0m\n\u001b[0m\u001b[1;32m    533\u001b[0m     \u001b[0;32melif\u001b[0m \u001b[0mversion\u001b[0m \u001b[0;34m==\u001b[0m \u001b[0;34m'v7'\u001b[0m\u001b[0;34m:\u001b[0m\u001b[0;34m\u001b[0m\u001b[0;34m\u001b[0m\u001b[0m\n\u001b[1;32m    534\u001b[0m         \u001b[0;32mclass\u001b[0m \u001b[0mMyCompressNet7\u001b[0m\u001b[0;34m(\u001b[0m\u001b[0mnn\u001b[0m\u001b[0;34m.\u001b[0m\u001b[0mModule\u001b[0m\u001b[0;34m)\u001b[0m\u001b[0;34m:\u001b[0m\u001b[0;34m\u001b[0m\u001b[0;34m\u001b[0m\u001b[0m\n",
      "\u001b[0;32m~/sagemaker-studiolab-notebooks/pytorch-cifar100/utils.py\u001b[0m in \u001b[0;36m__init__\u001b[0;34m(self, num_channels, dr_rate)\u001b[0m\n\u001b[1;32m    481\u001b[0m         \u001b[0;32mclass\u001b[0m \u001b[0mMyCompressNet6\u001b[0m\u001b[0;34m(\u001b[0m\u001b[0mnn\u001b[0m\u001b[0;34m.\u001b[0m\u001b[0mModule\u001b[0m\u001b[0;34m)\u001b[0m\u001b[0;34m:\u001b[0m\u001b[0;34m\u001b[0m\u001b[0;34m\u001b[0m\u001b[0m\n\u001b[1;32m    482\u001b[0m             \u001b[0;32mdef\u001b[0m \u001b[0m__init__\u001b[0m\u001b[0;34m(\u001b[0m\u001b[0mself\u001b[0m\u001b[0;34m,\u001b[0m \u001b[0mnum_channels\u001b[0m \u001b[0;34m=\u001b[0m \u001b[0;36m64\u001b[0m\u001b[0;34m,\u001b[0m \u001b[0mdr_rate\u001b[0m \u001b[0;34m=\u001b[0m \u001b[0;36m0.3\u001b[0m\u001b[0;34m)\u001b[0m\u001b[0;34m:\u001b[0m\u001b[0;34m\u001b[0m\u001b[0;34m\u001b[0m\u001b[0m\n\u001b[0;32m--> 483\u001b[0;31m                 \u001b[0msuper\u001b[0m\u001b[0;34m(\u001b[0m\u001b[0mMyCompressNet6\u001b[0m\u001b[0;34m,\u001b[0m \u001b[0mself\u001b[0m\u001b[0;34m)\u001b[0m\u001b[0;34m.\u001b[0m\u001b[0m__init__\u001b[0m\u001b[0;34m(\u001b[0m\u001b[0;34m)\u001b[0m\u001b[0;34m\u001b[0m\u001b[0;34m\u001b[0m\u001b[0m\n\u001b[0m\u001b[1;32m    484\u001b[0m                 \u001b[0mself\u001b[0m\u001b[0;34m.\u001b[0m\u001b[0mnum_channels\u001b[0m \u001b[0;34m=\u001b[0m \u001b[0mnum_channels\u001b[0m\u001b[0;34m\u001b[0m\u001b[0;34m\u001b[0m\u001b[0m\n\u001b[1;32m    485\u001b[0m                 \u001b[0mself\u001b[0m\u001b[0;34m.\u001b[0m\u001b[0mconv1\u001b[0m \u001b[0;34m=\u001b[0m \u001b[0mnn\u001b[0m\u001b[0;34m.\u001b[0m\u001b[0mConv2d\u001b[0m\u001b[0;34m(\u001b[0m\u001b[0;36m3\u001b[0m\u001b[0;34m,\u001b[0m \u001b[0mself\u001b[0m\u001b[0;34m.\u001b[0m\u001b[0mnum_channels\u001b[0m\u001b[0;34m,\u001b[0m \u001b[0;36m3\u001b[0m\u001b[0;34m,\u001b[0m \u001b[0mstride\u001b[0m\u001b[0;34m=\u001b[0m\u001b[0;36m1\u001b[0m\u001b[0;34m,\u001b[0m \u001b[0mpadding\u001b[0m\u001b[0;34m=\u001b[0m\u001b[0;36m1\u001b[0m\u001b[0;34m)\u001b[0m\u001b[0;34m\u001b[0m\u001b[0;34m\u001b[0m\u001b[0m\n",
      "\u001b[0;31mNameError\u001b[0m: free variable 'MyCompressNet2' referenced before assignment in enclosing scope"
     ]
    }
   ],
   "source": [
    "net = get_student_network(\"v6\")"
   ]
  },
  {
   "cell_type": "code",
   "execution_count": 8,
   "id": "9b1f5727-3938-4fdc-83e8-08cacf8ea21b",
   "metadata": {
    "tags": []
   },
   "outputs": [
    {
     "data": {
      "text/plain": [
       "==========================================================================================\n",
       "Layer (type:depth-idx)                   Output Shape              Param #\n",
       "==========================================================================================\n",
       "MyCompressNet2                           [1, 100]                  --\n",
       "├─Conv2d: 1-1                            [1, 64, 32, 32]           1,792\n",
       "├─BatchNorm2d: 1-2                       [1, 64, 32, 32]           128\n",
       "├─Conv2d: 1-3                            [1, 128, 16, 16]          73,856\n",
       "├─BatchNorm2d: 1-4                       [1, 128, 16, 16]          256\n",
       "├─Conv2d: 1-5                            [1, 128, 16, 16]          147,584\n",
       "├─BatchNorm2d: 1-6                       [1, 128, 16, 16]          256\n",
       "├─Conv2d: 1-7                            [1, 256, 8, 8]            295,168\n",
       "├─BatchNorm2d: 1-8                       [1, 256, 8, 8]            512\n",
       "├─Conv2d: 1-9                            [1, 256, 8, 8]            590,080\n",
       "├─BatchNorm2d: 1-10                      [1, 256, 8, 8]            512\n",
       "├─Conv2d: 1-11                           [1, 256, 4, 4]            590,080\n",
       "├─BatchNorm2d: 1-12                      [1, 256, 4, 4]            512\n",
       "├─Conv2d: 1-13                           [1, 256, 4, 4]            590,080\n",
       "├─BatchNorm2d: 1-14                      [1, 256, 4, 4]            512\n",
       "├─Linear: 1-15                           [1, 1024]                 4,195,328\n",
       "├─Linear: 1-16                           [1, 1024]                 1,049,600\n",
       "├─Linear: 1-17                           [1, 256]                  262,400\n",
       "├─Linear: 1-18                           [1, 256]                  65,792\n",
       "├─Linear: 1-19                           [1, 128]                  32,896\n",
       "├─Linear: 1-20                           [1, 100]                  12,900\n",
       "==========================================================================================\n",
       "Total params: 7,910,244\n",
       "Trainable params: 7,910,244\n",
       "Non-trainable params: 0\n",
       "Total mult-adds (M): 139.68\n",
       "==========================================================================================\n",
       "Input size (MB): 0.01\n",
       "Forward/backward pass size (MB): 2.77\n",
       "Params size (MB): 31.64\n",
       "Estimated Total Size (MB): 34.43\n",
       "=========================================================================================="
      ]
     },
     "execution_count": 8,
     "metadata": {},
     "output_type": "execute_result"
    }
   ],
   "source": [
    "from torchinfo import summary\n",
    "summary(net, input_size = (1,3,32,32))"
   ]
  },
  {
   "cell_type": "code",
   "execution_count": 76,
   "id": "cefcc5e0-8779-4fff-8803-f75bda925a5b",
   "metadata": {
    "tags": []
   },
   "outputs": [
    {
     "name": "stdout",
     "output_type": "stream",
     "text": [
      "Files already downloaded and verified\n",
      "MyCompressNet6(\n",
      "  (conv1): Conv2d(3, 64, kernel_size=(3, 3), stride=(1, 1), padding=(1, 1))\n",
      "  (bn1): BatchNorm2d(64, eps=1e-05, momentum=0.1, affine=True, track_running_stats=True)\n",
      "  (conv2): Conv2d(64, 128, kernel_size=(3, 3), stride=(1, 1), padding=(1, 1))\n",
      "  (bn2): BatchNorm2d(128, eps=1e-05, momentum=0.1, affine=True, track_running_stats=True)\n",
      "  (fire1): Fire(\n",
      "    (squeeze): Conv2d(128, 256, kernel_size=(1, 1), stride=(1, 1))\n",
      "    (squeeze_activation): ReLU(inplace=True)\n",
      "    (expand1x1): Conv2d(256, 128, kernel_size=(1, 1), stride=(1, 1))\n",
      "    (expand1x1_activation): ReLU(inplace=True)\n",
      "    (expand3x3): Conv2d(256, 128, kernel_size=(3, 3), stride=(1, 1), padding=(1, 1))\n",
      "    (expand3x3_activation): ReLU(inplace=True)\n",
      "  )\n",
      "  (bnfire1): BatchNorm2d(256, eps=1e-05, momentum=0.1, affine=True, track_running_stats=True)\n",
      "  (conv3): Conv2d(256, 256, kernel_size=(3, 3), stride=(1, 1), padding=(1, 1))\n",
      "  (bn3): BatchNorm2d(256, eps=1e-05, momentum=0.1, affine=True, track_running_stats=True)\n",
      "  (fire2): Fire(\n",
      "    (squeeze): Conv2d(256, 512, kernel_size=(1, 1), stride=(1, 1))\n",
      "    (squeeze_activation): ReLU(inplace=True)\n",
      "    (expand1x1): Conv2d(512, 256, kernel_size=(1, 1), stride=(1, 1))\n",
      "    (expand1x1_activation): ReLU(inplace=True)\n",
      "    (expand3x3): Conv2d(512, 256, kernel_size=(3, 3), stride=(1, 1), padding=(1, 1))\n",
      "    (expand3x3_activation): ReLU(inplace=True)\n",
      "  )\n",
      "  (bnfire2): BatchNorm2d(512, eps=1e-05, momentum=0.1, affine=True, track_running_stats=True)\n",
      "  (conv5): Conv2d(512, 256, kernel_size=(3, 3), stride=(1, 1), padding=(1, 1))\n",
      "  (bn5): BatchNorm2d(256, eps=1e-05, momentum=0.1, affine=True, track_running_stats=True)\n",
      "  (fc1): Linear(in_features=4096, out_features=1024, bias=True)\n",
      "  (fc2): Linear(in_features=1024, out_features=1024, bias=True)\n",
      "  (fc3): Linear(in_features=1024, out_features=256, bias=True)\n",
      "  (fc4): Linear(in_features=256, out_features=256, bias=True)\n",
      "  (fc5): Linear(in_features=256, out_features=128, bias=True)\n",
      "  (fc6): Linear(in_features=128, out_features=100, bias=True)\n",
      ")\n",
      "iteration: 1\ttotal 79 iterations\n",
      "iteration: 2\ttotal 79 iterations\n",
      "iteration: 3\ttotal 79 iterations\n",
      "iteration: 4\ttotal 79 iterations\n",
      "iteration: 5\ttotal 79 iterations\n",
      "iteration: 6\ttotal 79 iterations\n",
      "iteration: 7\ttotal 79 iterations\n",
      "iteration: 8\ttotal 79 iterations\n",
      "iteration: 9\ttotal 79 iterations\n",
      "iteration: 10\ttotal 79 iterations\n",
      "iteration: 11\ttotal 79 iterations\n",
      "iteration: 12\ttotal 79 iterations\n",
      "iteration: 13\ttotal 79 iterations\n",
      "iteration: 14\ttotal 79 iterations\n",
      "iteration: 15\ttotal 79 iterations\n",
      "iteration: 16\ttotal 79 iterations\n",
      "iteration: 17\ttotal 79 iterations\n",
      "iteration: 18\ttotal 79 iterations\n",
      "iteration: 19\ttotal 79 iterations\n",
      "iteration: 20\ttotal 79 iterations\n",
      "iteration: 21\ttotal 79 iterations\n",
      "iteration: 22\ttotal 79 iterations\n",
      "iteration: 23\ttotal 79 iterations\n",
      "iteration: 24\ttotal 79 iterations\n",
      "iteration: 25\ttotal 79 iterations\n",
      "iteration: 26\ttotal 79 iterations\n",
      "iteration: 27\ttotal 79 iterations\n",
      "iteration: 28\ttotal 79 iterations\n",
      "iteration: 29\ttotal 79 iterations\n",
      "iteration: 30\ttotal 79 iterations\n",
      "iteration: 31\ttotal 79 iterations\n",
      "iteration: 32\ttotal 79 iterations\n",
      "iteration: 33\ttotal 79 iterations\n",
      "iteration: 34\ttotal 79 iterations\n",
      "iteration: 35\ttotal 79 iterations\n",
      "iteration: 36\ttotal 79 iterations\n",
      "iteration: 37\ttotal 79 iterations\n",
      "iteration: 38\ttotal 79 iterations\n",
      "iteration: 39\ttotal 79 iterations\n",
      "iteration: 40\ttotal 79 iterations\n",
      "iteration: 41\ttotal 79 iterations\n",
      "iteration: 42\ttotal 79 iterations\n",
      "iteration: 43\ttotal 79 iterations\n",
      "iteration: 44\ttotal 79 iterations\n",
      "iteration: 45\ttotal 79 iterations\n",
      "iteration: 46\ttotal 79 iterations\n",
      "iteration: 47\ttotal 79 iterations\n",
      "iteration: 48\ttotal 79 iterations\n",
      "iteration: 49\ttotal 79 iterations\n",
      "iteration: 50\ttotal 79 iterations\n",
      "iteration: 51\ttotal 79 iterations\n",
      "iteration: 52\ttotal 79 iterations\n",
      "iteration: 53\ttotal 79 iterations\n",
      "iteration: 54\ttotal 79 iterations\n",
      "iteration: 55\ttotal 79 iterations\n",
      "iteration: 56\ttotal 79 iterations\n",
      "iteration: 57\ttotal 79 iterations\n",
      "iteration: 58\ttotal 79 iterations\n",
      "iteration: 59\ttotal 79 iterations\n",
      "iteration: 60\ttotal 79 iterations\n",
      "iteration: 61\ttotal 79 iterations\n",
      "iteration: 62\ttotal 79 iterations\n",
      "iteration: 63\ttotal 79 iterations\n",
      "iteration: 64\ttotal 79 iterations\n",
      "iteration: 65\ttotal 79 iterations\n",
      "iteration: 66\ttotal 79 iterations\n",
      "iteration: 67\ttotal 79 iterations\n",
      "iteration: 68\ttotal 79 iterations\n",
      "iteration: 69\ttotal 79 iterations\n",
      "iteration: 70\ttotal 79 iterations\n",
      "iteration: 71\ttotal 79 iterations\n",
      "iteration: 72\ttotal 79 iterations\n",
      "iteration: 73\ttotal 79 iterations\n",
      "iteration: 74\ttotal 79 iterations\n",
      "iteration: 75\ttotal 79 iterations\n",
      "iteration: 76\ttotal 79 iterations\n",
      "iteration: 77\ttotal 79 iterations\n",
      "iteration: 78\ttotal 79 iterations\n",
      "iteration: 79\ttotal 79 iterations\n",
      "\n",
      "Top 1 err:  tensor(0.3763)\n",
      "Top 5 err:  tensor(0.1639)\n",
      "acc: 0.8360999822616577\n",
      "Parameter numbers: 9271268\n"
     ]
    }
   ],
   "source": [
    "!python3 test.py -net=v6 -weights=v6-200-regular.pth -b=128"
   ]
  },
  {
   "cell_type": "code",
   "execution_count": 15,
   "id": "24909934-efb0-4134-bbfc-f4ac2463bc35",
   "metadata": {
    "tags": []
   },
   "outputs": [
    {
     "name": "stdout",
     "output_type": "stream",
     "text": [
      "Collecting matplotlib\n",
      "  Using cached matplotlib-3.7.2-cp39-cp39-manylinux_2_17_x86_64.manylinux2014_x86_64.whl (11.6 MB)\n",
      "Requirement already satisfied: importlib-resources>=3.2.0 in /home/studio-lab-user/.conda/envs/default/lib/python3.9/site-packages (from matplotlib) (5.12.0)\n",
      "Requirement already satisfied: packaging>=20.0 in /home/studio-lab-user/.conda/envs/default/lib/python3.9/site-packages (from matplotlib) (23.0)\n",
      "Collecting kiwisolver>=1.0.1\n",
      "  Using cached kiwisolver-1.4.4-cp39-cp39-manylinux_2_12_x86_64.manylinux2010_x86_64.whl (1.6 MB)\n",
      "Collecting pyparsing<3.1,>=2.3.1\n",
      "  Using cached pyparsing-3.0.9-py3-none-any.whl (98 kB)\n",
      "Requirement already satisfied: numpy>=1.20 in /home/studio-lab-user/.conda/envs/default/lib/python3.9/site-packages (from matplotlib) (1.25.1)\n",
      "Collecting contourpy>=1.0.1\n",
      "  Using cached contourpy-1.1.0-cp39-cp39-manylinux_2_17_x86_64.manylinux2014_x86_64.whl (300 kB)\n",
      "Requirement already satisfied: pillow>=6.2.0 in /home/studio-lab-user/.conda/envs/default/lib/python3.9/site-packages (from matplotlib) (10.0.0)\n",
      "Requirement already satisfied: python-dateutil>=2.7 in /home/studio-lab-user/.conda/envs/default/lib/python3.9/site-packages (from matplotlib) (2.8.2)\n",
      "Collecting fonttools>=4.22.0\n",
      "  Using cached fonttools-4.41.1-cp39-cp39-manylinux_2_17_x86_64.manylinux2014_x86_64.whl (4.5 MB)\n",
      "Collecting cycler>=0.10\n",
      "  Using cached cycler-0.11.0-py3-none-any.whl (6.4 kB)\n",
      "Requirement already satisfied: zipp>=3.1.0 in /home/studio-lab-user/.conda/envs/default/lib/python3.9/site-packages (from importlib-resources>=3.2.0->matplotlib) (3.15.0)\n",
      "Requirement already satisfied: six>=1.5 in /home/studio-lab-user/.conda/envs/default/lib/python3.9/site-packages (from python-dateutil>=2.7->matplotlib) (1.16.0)\n",
      "Installing collected packages: pyparsing, kiwisolver, fonttools, cycler, contourpy, matplotlib\n",
      "Successfully installed contourpy-1.1.0 cycler-0.11.0 fonttools-4.41.1 kiwisolver-1.4.4 matplotlib-3.7.2 pyparsing-3.0.9\n"
     ]
    }
   ],
   "source": [
    "!pip install matplotlib"
   ]
  },
  {
   "cell_type": "code",
   "execution_count": 2,
   "id": "64cee648-8054-48d5-a6af-b815c0335ac1",
   "metadata": {},
   "outputs": [],
   "source": [
    "class Fire(nn.Module):\n",
    "    def __init__(self, inplanes: int, squeeze_planes: int, expand1x1_planes: int, expand3x3_planes: int) -> None:\n",
    "        super().__init__()\n",
    "        self.inplanes = inplanes\n",
    "        self.squeeze = nn.Conv2d(inplanes, squeeze_planes, kernel_size=1)\n",
    "        self.squeeze_activation = nn.ReLU(inplace=True)\n",
    "        self.expand1x1 = nn.Conv2d(squeeze_planes, expand1x1_planes, kernel_size=1)\n",
    "        self.expand1x1_activation = nn.ReLU(inplace=True)\n",
    "        self.expand3x3 = nn.Conv2d(squeeze_planes, expand3x3_planes, kernel_size=3, padding=1)\n",
    "        self.expand3x3_activation = nn.ReLU(inplace=True)\n",
    "\n",
    "    def forward(self, x: torch.Tensor) -> torch.Tensor:\n",
    "        x = self.squeeze_activation(self.squeeze(x))\n",
    "        return torch.cat(\n",
    "            [self.expand1x1_activation(self.expand1x1(x)), self.expand3x3_activation(self.expand3x3(x))], 1\n",
    "        )"
   ]
  },
  {
   "cell_type": "code",
   "execution_count": 3,
   "id": "00ced8a3-6883-46cd-a2e7-7714b680c7a9",
   "metadata": {
    "tags": []
   },
   "outputs": [],
   "source": [
    "model = Fire(3,32,64,128)"
   ]
  },
  {
   "cell_type": "code",
   "execution_count": 5,
   "id": "b0d0ffd8-c668-4d88-90d7-da846375a06c",
   "metadata": {
    "tags": []
   },
   "outputs": [
    {
     "data": {
      "text/plain": [
       "torch.Size([1, 192, 70, 70])"
      ]
     },
     "execution_count": 5,
     "metadata": {},
     "output_type": "execute_result"
    }
   ],
   "source": [
    "model.forward(torch.rand(1,3,70,70)).shape"
   ]
  },
  {
   "cell_type": "code",
   "execution_count": 66,
   "id": "7540048f-70a7-4b92-8228-287d5ddee64b",
   "metadata": {
    "tags": []
   },
   "outputs": [],
   "source": [
    "class MyCompressNet7(nn.Module):\n",
    "    def __init__(self, num_channels = 64, dr_rate = 0.3):\n",
    "        super(MyCompressNet7, self).__init__()\n",
    "        self.num_channels = num_channels\n",
    "        self.conv1 = nn.Conv2d(3, self.num_channels, 3, stride=1, padding=1)\n",
    "        self.bn1 = nn.BatchNorm2d(self.num_channels)\n",
    "        self.conv2 = nn.Conv2d(self.num_channels, self.num_channels*2, 3, stride=1, padding=1)\n",
    "        self.bn2 = nn.BatchNorm2d(self.num_channels*2)\n",
    "        self.fire1 = Fire(self.num_channels*2, self.num_channels*2, self.num_channels*2, self.num_channels*2)\n",
    "        self.bnfire1 = nn.BatchNorm2d(self.num_channels*4)\n",
    "        self.fire2 = Fire(self.num_channels*4, self.num_channels*2, self.num_channels*4, self.num_channels*4)\n",
    "        self.bnfire2 = nn.BatchNorm2d(self.num_channels*8)\n",
    "        self.fire3 = Fire(self.num_channels*8, self.num_channels*2, self.num_channels*8, self.num_channels*8)\n",
    "        self.bnfire3 = nn.BatchNorm2d(self.num_channels*16)\n",
    "        self.conv3 = nn.Conv2d(self.num_channels*16, self.num_channels*8, 3, stride=1, padding=1)\n",
    "        self.bn3 = nn.BatchNorm2d(self.num_channels*8)\n",
    "        # self.conv4 = nn.Conv2d(self.num_channels*2, self.num_channels*4, 3, stride=1, padding=1)\n",
    "        self.fire4 = Fire(self.num_channels*8, self.num_channels*2, self.num_channels*4, self.num_channels*4)\n",
    "        self.bnfire4 = nn.BatchNorm2d(self.num_channels*8)\n",
    "        self.conv5 = nn.Conv2d(self.num_channels*8, self.num_channels*8, 3, stride=1, padding=1)\n",
    "        self.bn5 = nn.BatchNorm2d(self.num_channels*8)\n",
    "        self.fire5 = Fire(self.num_channels*8, self.num_channels*2, self.num_channels*2, self.num_channels*2)\n",
    "        self.bnfire5 = nn.BatchNorm2d(self.num_channels*4)\n",
    "        self.fire6 = Fire(self.num_channels*4, self.num_channels, self.num_channels, self.num_channels)\n",
    "        self.bnfire6 = nn.BatchNorm2d(self.num_channels*2)\n",
    "        self.fc1 = nn.Linear(4*4*self.num_channels*2, self.num_channels*4*4)\n",
    "        # self.fc2 = nn.Linear(self.num_channels*4*4, self.num_channels*4*4)\n",
    "        self.fc3 = nn.Linear(self.num_channels*4*4, self.num_channels*4)\n",
    "        self.fc4 = nn.Linear(self.num_channels*4, self.num_channels*4)\n",
    "        self.fc5 = nn.Linear(self.num_channels*4, self.num_channels*2)\n",
    "        self.fc6 = nn.Linear(self.num_channels*2, 100)      \n",
    "        self.dropout_rate = dr_rate\n",
    "    def forward(self,x):\n",
    "        \"\"\"\n",
    "        Forward function\n",
    "        \"\"\"\n",
    "        x = self.bn1(self.conv1(x))\n",
    "        x = F.relu(F.max_pool2d(x,2))\n",
    "        x = self.bn2(self.conv2(x))\n",
    "        x = F.relu(x)\n",
    "        x = F.relu(self.bnfire1(self.fire1(x)))\n",
    "        x = F.relu(self.bnfire2(self.fire2(x)))\n",
    "        x = F.relu(self.bnfire3(self.fire3(x)))\n",
    "        x = self.bn3(self.conv3(x))\n",
    "        x = F.relu(F.max_pool2d(x,2))\n",
    "        # x = self.bn4(self.conv4(x))\n",
    "        # x = F.relu(x)\n",
    "        x = self.bnfire4(self.fire4(x))\n",
    "        x = F.relu(x)\n",
    "        x = self.bn5(self.conv5(x))\n",
    "        x = F.relu(F.max_pool2d(x,2))\n",
    "        x = F.relu(self.bnfire5(self.fire5(x)))\n",
    "        x = F.relu(self.bnfire6(self.fire6(x)))\n",
    "        x = x.view(-1, 4*4*self.num_channels*2)\n",
    "        x = F.relu(self.fc1(x))\n",
    "        x = F.dropout(x, p = self.dropout_rate)\n",
    "        # x = F.relu(self.fc2(x))\n",
    "        x = F.relu(self.fc3(x))\n",
    "        x = F.relu(self.fc4(x))\n",
    "        x = F.dropout(x, p = self.dropout_rate)\n",
    "        x = F.relu(self.fc5(x))\n",
    "        x = self.fc6(x)\n",
    "        return x\n",
    "        \n"
   ]
  },
  {
   "cell_type": "code",
   "execution_count": 67,
   "id": "87176438-bbc6-41a6-9d54-dc50cc5eb7b9",
   "metadata": {
    "tags": []
   },
   "outputs": [],
   "source": [
    "student_net = MyCompressNet7(64, 0.3)"
   ]
  },
  {
   "cell_type": "code",
   "execution_count": 68,
   "id": "75b80737-77f6-499a-8e20-c8b01137cca0",
   "metadata": {
    "tags": []
   },
   "outputs": [
    {
     "data": {
      "text/plain": [
       "==========================================================================================\n",
       "Layer (type:depth-idx)                   Output Shape              Param #\n",
       "==========================================================================================\n",
       "MyCompressNet7                           [1, 100]                  --\n",
       "├─Conv2d: 1-1                            [1, 64, 32, 32]           1,792\n",
       "├─BatchNorm2d: 1-2                       [1, 64, 32, 32]           128\n",
       "├─Conv2d: 1-3                            [1, 128, 16, 16]          73,856\n",
       "├─BatchNorm2d: 1-4                       [1, 128, 16, 16]          256\n",
       "├─Fire: 1-5                              [1, 256, 16, 16]          --\n",
       "│    └─Conv2d: 2-1                       [1, 128, 16, 16]          16,512\n",
       "│    └─ReLU: 2-2                         [1, 128, 16, 16]          --\n",
       "│    └─Conv2d: 2-3                       [1, 128, 16, 16]          16,512\n",
       "│    └─ReLU: 2-4                         [1, 128, 16, 16]          --\n",
       "│    └─Conv2d: 2-5                       [1, 128, 16, 16]          147,584\n",
       "│    └─ReLU: 2-6                         [1, 128, 16, 16]          --\n",
       "├─BatchNorm2d: 1-6                       [1, 256, 16, 16]          512\n",
       "├─Fire: 1-7                              [1, 512, 16, 16]          --\n",
       "│    └─Conv2d: 2-7                       [1, 128, 16, 16]          32,896\n",
       "│    └─ReLU: 2-8                         [1, 128, 16, 16]          --\n",
       "│    └─Conv2d: 2-9                       [1, 256, 16, 16]          33,024\n",
       "│    └─ReLU: 2-10                        [1, 256, 16, 16]          --\n",
       "│    └─Conv2d: 2-11                      [1, 256, 16, 16]          295,168\n",
       "│    └─ReLU: 2-12                        [1, 256, 16, 16]          --\n",
       "├─BatchNorm2d: 1-8                       [1, 512, 16, 16]          1,024\n",
       "├─Fire: 1-9                              [1, 1024, 16, 16]         --\n",
       "│    └─Conv2d: 2-13                      [1, 128, 16, 16]          65,664\n",
       "│    └─ReLU: 2-14                        [1, 128, 16, 16]          --\n",
       "│    └─Conv2d: 2-15                      [1, 512, 16, 16]          66,048\n",
       "│    └─ReLU: 2-16                        [1, 512, 16, 16]          --\n",
       "│    └─Conv2d: 2-17                      [1, 512, 16, 16]          590,336\n",
       "│    └─ReLU: 2-18                        [1, 512, 16, 16]          --\n",
       "├─BatchNorm2d: 1-10                      [1, 1024, 16, 16]         2,048\n",
       "├─Conv2d: 1-11                           [1, 512, 16, 16]          4,719,104\n",
       "├─BatchNorm2d: 1-12                      [1, 512, 16, 16]          1,024\n",
       "├─Fire: 1-13                             [1, 512, 8, 8]            --\n",
       "│    └─Conv2d: 2-19                      [1, 128, 8, 8]            65,664\n",
       "│    └─ReLU: 2-20                        [1, 128, 8, 8]            --\n",
       "│    └─Conv2d: 2-21                      [1, 256, 8, 8]            33,024\n",
       "│    └─ReLU: 2-22                        [1, 256, 8, 8]            --\n",
       "│    └─Conv2d: 2-23                      [1, 256, 8, 8]            295,168\n",
       "│    └─ReLU: 2-24                        [1, 256, 8, 8]            --\n",
       "├─BatchNorm2d: 1-14                      [1, 512, 8, 8]            1,024\n",
       "├─Conv2d: 1-15                           [1, 512, 8, 8]            2,359,808\n",
       "├─BatchNorm2d: 1-16                      [1, 512, 8, 8]            1,024\n",
       "├─Fire: 1-17                             [1, 256, 4, 4]            --\n",
       "│    └─Conv2d: 2-25                      [1, 128, 4, 4]            65,664\n",
       "│    └─ReLU: 2-26                        [1, 128, 4, 4]            --\n",
       "│    └─Conv2d: 2-27                      [1, 128, 4, 4]            16,512\n",
       "│    └─ReLU: 2-28                        [1, 128, 4, 4]            --\n",
       "│    └─Conv2d: 2-29                      [1, 128, 4, 4]            147,584\n",
       "│    └─ReLU: 2-30                        [1, 128, 4, 4]            --\n",
       "├─BatchNorm2d: 1-18                      [1, 256, 4, 4]            512\n",
       "├─Fire: 1-19                             [1, 128, 4, 4]            --\n",
       "│    └─Conv2d: 2-31                      [1, 64, 4, 4]             16,448\n",
       "│    └─ReLU: 2-32                        [1, 64, 4, 4]             --\n",
       "│    └─Conv2d: 2-33                      [1, 64, 4, 4]             4,160\n",
       "│    └─ReLU: 2-34                        [1, 64, 4, 4]             --\n",
       "│    └─Conv2d: 2-35                      [1, 64, 4, 4]             36,928\n",
       "│    └─ReLU: 2-36                        [1, 64, 4, 4]             --\n",
       "├─BatchNorm2d: 1-20                      [1, 128, 4, 4]            256\n",
       "├─Linear: 1-21                           [1, 1024]                 2,098,176\n",
       "├─Linear: 1-22                           [1, 256]                  262,400\n",
       "├─Linear: 1-23                           [1, 256]                  65,792\n",
       "├─Linear: 1-24                           [1, 128]                  32,896\n",
       "├─Linear: 1-25                           [1, 100]                  12,900\n",
       "==========================================================================================\n",
       "Total params: 11,579,428\n",
       "Trainable params: 11,579,428\n",
       "Non-trainable params: 0\n",
       "Total mult-adds (G): 1.74\n",
       "==========================================================================================\n",
       "Input size (MB): 0.01\n",
       "Forward/backward pass size (MB): 13.05\n",
       "Params size (MB): 46.32\n",
       "Estimated Total Size (MB): 59.38\n",
       "=========================================================================================="
      ]
     },
     "execution_count": 68,
     "metadata": {},
     "output_type": "execute_result"
    }
   ],
   "source": [
    "summary(student_net, input_size= (1,3,32,32))"
   ]
  },
  {
   "cell_type": "code",
   "execution_count": 69,
   "id": "f95c69b8-9e85-494f-9786-32b54df77550",
   "metadata": {
    "tags": []
   },
   "outputs": [
    {
     "data": {
      "text/plain": [
       "torch.Size([1, 100])"
      ]
     },
     "execution_count": 69,
     "metadata": {},
     "output_type": "execute_result"
    }
   ],
   "source": [
    "student_net.forward(torch.rand(1,3,32,32)).shape"
   ]
  },
  {
   "cell_type": "code",
   "execution_count": null,
   "id": "9478dd5a-0c63-4e45-8c36-ff6028cfd63c",
   "metadata": {},
   "outputs": [],
   "source": []
  },
  {
   "cell_type": "code",
   "execution_count": null,
   "id": "42deafbb-6c28-47ca-95ff-830eede39208",
   "metadata": {},
   "outputs": [],
   "source": []
  }
 ],
 "metadata": {
  "kernelspec": {
   "display_name": "default:Python",
   "language": "python",
   "name": "conda-env-default-py"
  },
  "language_info": {
   "codemirror_mode": {
    "name": "ipython",
    "version": 3
   },
   "file_extension": ".py",
   "mimetype": "text/x-python",
   "name": "python",
   "nbconvert_exporter": "python",
   "pygments_lexer": "ipython3",
   "version": "3.9.16"
  }
 },
 "nbformat": 4,
 "nbformat_minor": 5
}
