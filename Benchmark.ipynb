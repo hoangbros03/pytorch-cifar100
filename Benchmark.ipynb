{
 "cells": [
  {
   "cell_type": "code",
   "execution_count": 16,
   "id": "2cfc2d73-b8db-428c-be5a-e0a9bf3ff988",
   "metadata": {
    "tags": []
   },
   "outputs": [],
   "source": [
    "import torch\n",
    "import torch.nn as nn\n",
    "import torch.optim as optim\n",
    "import torchvision\n",
    "import torchvision.transforms as transforms\n",
    "import torch.nn.functional as F\n",
    "from utils import get_network, get_training_dataloader, get_test_dataloader, WarmUpLR, \\\n",
    "    most_recent_folder, most_recent_weights, last_epoch, best_acc_weights\n",
    "from conf import settings\n",
    "from models.vgg import vgg16_bn\n",
    "from torch.profiler import profile, record_function, ProfilerActivity\n",
    "import copy\n",
    "from torchinfo import summary"
   ]
  },
  {
   "cell_type": "code",
   "execution_count": 4,
   "id": "b5a6c4f9-02d0-422b-b785-f04d8e41171e",
   "metadata": {
    "tags": []
   },
   "outputs": [
    {
     "data": {
      "text/plain": [
       "<All keys matched successfully>"
      ]
     },
     "execution_count": 4,
     "metadata": {},
     "output_type": "execute_result"
    }
   ],
   "source": [
    "net = vgg16_bn()\n",
    "net.load_state_dict(torch.load('checkpoint/vgg16/Thursday_27_July_2023_16h_07m_07s/vgg16-200-regular.pth',map_location=torch.device('cpu')))"
   ]
  },
  {
   "cell_type": "code",
   "execution_count": 5,
   "id": "baa102cd-cdfd-4ae6-8bec-7789ddf1ed74",
   "metadata": {
    "tags": []
   },
   "outputs": [
    {
     "data": {
      "text/plain": [
       "VGG(\n",
       "  (features): Sequential(\n",
       "    (0): Conv2d(3, 64, kernel_size=(3, 3), stride=(1, 1), padding=(1, 1))\n",
       "    (1): BatchNorm2d(64, eps=1e-05, momentum=0.1, affine=True, track_running_stats=True)\n",
       "    (2): ReLU(inplace=True)\n",
       "    (3): Conv2d(64, 64, kernel_size=(3, 3), stride=(1, 1), padding=(1, 1))\n",
       "    (4): BatchNorm2d(64, eps=1e-05, momentum=0.1, affine=True, track_running_stats=True)\n",
       "    (5): ReLU(inplace=True)\n",
       "    (6): MaxPool2d(kernel_size=2, stride=2, padding=0, dilation=1, ceil_mode=False)\n",
       "    (7): Conv2d(64, 128, kernel_size=(3, 3), stride=(1, 1), padding=(1, 1))\n",
       "    (8): BatchNorm2d(128, eps=1e-05, momentum=0.1, affine=True, track_running_stats=True)\n",
       "    (9): ReLU(inplace=True)\n",
       "    (10): Conv2d(128, 128, kernel_size=(3, 3), stride=(1, 1), padding=(1, 1))\n",
       "    (11): BatchNorm2d(128, eps=1e-05, momentum=0.1, affine=True, track_running_stats=True)\n",
       "    (12): ReLU(inplace=True)\n",
       "    (13): MaxPool2d(kernel_size=2, stride=2, padding=0, dilation=1, ceil_mode=False)\n",
       "    (14): Conv2d(128, 256, kernel_size=(3, 3), stride=(1, 1), padding=(1, 1))\n",
       "    (15): BatchNorm2d(256, eps=1e-05, momentum=0.1, affine=True, track_running_stats=True)\n",
       "    (16): ReLU(inplace=True)\n",
       "    (17): Conv2d(256, 256, kernel_size=(3, 3), stride=(1, 1), padding=(1, 1))\n",
       "    (18): BatchNorm2d(256, eps=1e-05, momentum=0.1, affine=True, track_running_stats=True)\n",
       "    (19): ReLU(inplace=True)\n",
       "    (20): Conv2d(256, 256, kernel_size=(3, 3), stride=(1, 1), padding=(1, 1))\n",
       "    (21): BatchNorm2d(256, eps=1e-05, momentum=0.1, affine=True, track_running_stats=True)\n",
       "    (22): ReLU(inplace=True)\n",
       "    (23): MaxPool2d(kernel_size=2, stride=2, padding=0, dilation=1, ceil_mode=False)\n",
       "    (24): Conv2d(256, 512, kernel_size=(3, 3), stride=(1, 1), padding=(1, 1))\n",
       "    (25): BatchNorm2d(512, eps=1e-05, momentum=0.1, affine=True, track_running_stats=True)\n",
       "    (26): ReLU(inplace=True)\n",
       "    (27): Conv2d(512, 512, kernel_size=(3, 3), stride=(1, 1), padding=(1, 1))\n",
       "    (28): BatchNorm2d(512, eps=1e-05, momentum=0.1, affine=True, track_running_stats=True)\n",
       "    (29): ReLU(inplace=True)\n",
       "    (30): Conv2d(512, 512, kernel_size=(3, 3), stride=(1, 1), padding=(1, 1))\n",
       "    (31): BatchNorm2d(512, eps=1e-05, momentum=0.1, affine=True, track_running_stats=True)\n",
       "    (32): ReLU(inplace=True)\n",
       "    (33): MaxPool2d(kernel_size=2, stride=2, padding=0, dilation=1, ceil_mode=False)\n",
       "    (34): Conv2d(512, 512, kernel_size=(3, 3), stride=(1, 1), padding=(1, 1))\n",
       "    (35): BatchNorm2d(512, eps=1e-05, momentum=0.1, affine=True, track_running_stats=True)\n",
       "    (36): ReLU(inplace=True)\n",
       "    (37): Conv2d(512, 512, kernel_size=(3, 3), stride=(1, 1), padding=(1, 1))\n",
       "    (38): BatchNorm2d(512, eps=1e-05, momentum=0.1, affine=True, track_running_stats=True)\n",
       "    (39): ReLU(inplace=True)\n",
       "    (40): Conv2d(512, 512, kernel_size=(3, 3), stride=(1, 1), padding=(1, 1))\n",
       "    (41): BatchNorm2d(512, eps=1e-05, momentum=0.1, affine=True, track_running_stats=True)\n",
       "    (42): ReLU(inplace=True)\n",
       "    (43): MaxPool2d(kernel_size=2, stride=2, padding=0, dilation=1, ceil_mode=False)\n",
       "  )\n",
       "  (classifier): Sequential(\n",
       "    (0): Linear(in_features=512, out_features=4096, bias=True)\n",
       "    (1): ReLU(inplace=True)\n",
       "    (2): Dropout(p=0.5, inplace=False)\n",
       "    (3): Linear(in_features=4096, out_features=4096, bias=True)\n",
       "    (4): ReLU(inplace=True)\n",
       "    (5): Dropout(p=0.5, inplace=False)\n",
       "    (6): Linear(in_features=4096, out_features=100, bias=True)\n",
       "  )\n",
       ")"
      ]
     },
     "execution_count": 5,
     "metadata": {},
     "output_type": "execute_result"
    }
   ],
   "source": [
    "net.eval()"
   ]
  },
  {
   "cell_type": "code",
   "execution_count": 17,
   "id": "53302a26-5ab5-4604-aa36-cb51bcc65941",
   "metadata": {
    "tags": []
   },
   "outputs": [
    {
     "data": {
      "text/plain": [
       "==========================================================================================\n",
       "Layer (type:depth-idx)                   Output Shape              Param #\n",
       "==========================================================================================\n",
       "VGG                                      [1, 100]                  --\n",
       "├─Sequential: 1-1                        [1, 512, 1, 1]            --\n",
       "│    └─Conv2d: 2-1                       [1, 64, 32, 32]           1,792\n",
       "│    └─BatchNorm2d: 2-2                  [1, 64, 32, 32]           128\n",
       "│    └─ReLU: 2-3                         [1, 64, 32, 32]           --\n",
       "│    └─Conv2d: 2-4                       [1, 64, 32, 32]           36,928\n",
       "│    └─BatchNorm2d: 2-5                  [1, 64, 32, 32]           128\n",
       "│    └─ReLU: 2-6                         [1, 64, 32, 32]           --\n",
       "│    └─MaxPool2d: 2-7                    [1, 64, 16, 16]           --\n",
       "│    └─Conv2d: 2-8                       [1, 128, 16, 16]          73,856\n",
       "│    └─BatchNorm2d: 2-9                  [1, 128, 16, 16]          256\n",
       "│    └─ReLU: 2-10                        [1, 128, 16, 16]          --\n",
       "│    └─Conv2d: 2-11                      [1, 128, 16, 16]          147,584\n",
       "│    └─BatchNorm2d: 2-12                 [1, 128, 16, 16]          256\n",
       "│    └─ReLU: 2-13                        [1, 128, 16, 16]          --\n",
       "│    └─MaxPool2d: 2-14                   [1, 128, 8, 8]            --\n",
       "│    └─Conv2d: 2-15                      [1, 256, 8, 8]            295,168\n",
       "│    └─BatchNorm2d: 2-16                 [1, 256, 8, 8]            512\n",
       "│    └─ReLU: 2-17                        [1, 256, 8, 8]            --\n",
       "│    └─Conv2d: 2-18                      [1, 256, 8, 8]            590,080\n",
       "│    └─BatchNorm2d: 2-19                 [1, 256, 8, 8]            512\n",
       "│    └─ReLU: 2-20                        [1, 256, 8, 8]            --\n",
       "│    └─Conv2d: 2-21                      [1, 256, 8, 8]            590,080\n",
       "│    └─BatchNorm2d: 2-22                 [1, 256, 8, 8]            512\n",
       "│    └─ReLU: 2-23                        [1, 256, 8, 8]            --\n",
       "│    └─MaxPool2d: 2-24                   [1, 256, 4, 4]            --\n",
       "│    └─Conv2d: 2-25                      [1, 512, 4, 4]            1,180,160\n",
       "│    └─BatchNorm2d: 2-26                 [1, 512, 4, 4]            1,024\n",
       "│    └─ReLU: 2-27                        [1, 512, 4, 4]            --\n",
       "│    └─Conv2d: 2-28                      [1, 512, 4, 4]            2,359,808\n",
       "│    └─BatchNorm2d: 2-29                 [1, 512, 4, 4]            1,024\n",
       "│    └─ReLU: 2-30                        [1, 512, 4, 4]            --\n",
       "│    └─Conv2d: 2-31                      [1, 512, 4, 4]            2,359,808\n",
       "│    └─BatchNorm2d: 2-32                 [1, 512, 4, 4]            1,024\n",
       "│    └─ReLU: 2-33                        [1, 512, 4, 4]            --\n",
       "│    └─MaxPool2d: 2-34                   [1, 512, 2, 2]            --\n",
       "│    └─Conv2d: 2-35                      [1, 512, 2, 2]            2,359,808\n",
       "│    └─BatchNorm2d: 2-36                 [1, 512, 2, 2]            1,024\n",
       "│    └─ReLU: 2-37                        [1, 512, 2, 2]            --\n",
       "│    └─Conv2d: 2-38                      [1, 512, 2, 2]            2,359,808\n",
       "│    └─BatchNorm2d: 2-39                 [1, 512, 2, 2]            1,024\n",
       "│    └─ReLU: 2-40                        [1, 512, 2, 2]            --\n",
       "│    └─Conv2d: 2-41                      [1, 512, 2, 2]            2,359,808\n",
       "│    └─BatchNorm2d: 2-42                 [1, 512, 2, 2]            1,024\n",
       "│    └─ReLU: 2-43                        [1, 512, 2, 2]            --\n",
       "│    └─MaxPool2d: 2-44                   [1, 512, 1, 1]            --\n",
       "├─Sequential: 1-2                        [1, 100]                  --\n",
       "│    └─Linear: 2-45                      [1, 4096]                 2,101,248\n",
       "│    └─ReLU: 2-46                        [1, 4096]                 --\n",
       "│    └─Dropout: 2-47                     [1, 4096]                 --\n",
       "│    └─Linear: 2-48                      [1, 4096]                 16,781,312\n",
       "│    └─ReLU: 2-49                        [1, 4096]                 --\n",
       "│    └─Dropout: 2-50                     [1, 4096]                 --\n",
       "│    └─Linear: 2-51                      [1, 100]                  409,700\n",
       "==========================================================================================\n",
       "Total params: 34,015,396\n",
       "Trainable params: 34,015,396\n",
       "Non-trainable params: 0\n",
       "Total mult-adds (M): 332.77\n",
       "==========================================================================================\n",
       "Input size (MB): 0.01\n",
       "Forward/backward pass size (MB): 4.49\n",
       "Params size (MB): 136.06\n",
       "Estimated Total Size (MB): 140.56\n",
       "=========================================================================================="
      ]
     },
     "execution_count": 17,
     "metadata": {},
     "output_type": "execute_result"
    }
   ],
   "source": [
    "summary(net, input_size = (1,3,32,32))"
   ]
  },
  {
   "cell_type": "code",
   "execution_count": 6,
   "id": "856ae232-b9b3-4e35-8b0f-2f407385307a",
   "metadata": {
    "tags": []
   },
   "outputs": [
    {
     "name": "stdout",
     "output_type": "stream",
     "text": [
      "Files already downloaded and verified\n"
     ]
    }
   ],
   "source": [
    "cifar100_test_loader = get_test_dataloader(\n",
    "        settings.CIFAR100_TRAIN_MEAN,\n",
    "        settings.CIFAR100_TRAIN_STD,\n",
    "        #settings.CIFAR100_PATH,\n",
    "        num_workers=4,\n",
    "        batch_size=128,\n",
    "    )"
   ]
  },
  {
   "cell_type": "code",
   "execution_count": null,
   "id": "187acd6e-8a27-420e-b1ff-a0e09b4c45a5",
   "metadata": {},
   "outputs": [],
   "source": []
  },
  {
   "cell_type": "code",
   "execution_count": 7,
   "id": "36f32321-7061-42c3-b4db-94a116278ecc",
   "metadata": {
    "tags": []
   },
   "outputs": [
    {
     "name": "stderr",
     "output_type": "stream",
     "text": [
      "STAGE:2023-07-30 16:31:41 122:122 ActivityProfilerController.cpp:311] Completed Stage: Warm Up\n",
      "STAGE:2023-07-30 16:31:42 122:122 ActivityProfilerController.cpp:317] Completed Stage: Collection\n",
      "STAGE:2023-07-30 16:31:42 122:122 ActivityProfilerController.cpp:321] Completed Stage: Post Processing\n"
     ]
    }
   ],
   "source": [
    "with profile(activities=[ProfilerActivity.CPU], record_shapes=True, profile_memory=True) as prof:\n",
    "    with record_function(\"model_inference\"):\n",
    "        net(torch.rand(1,3,32,32))"
   ]
  },
  {
   "cell_type": "code",
   "execution_count": 8,
   "id": "d5916094-594e-4cb1-a507-e16bf5f37bd5",
   "metadata": {
    "tags": []
   },
   "outputs": [
    {
     "name": "stdout",
     "output_type": "stream",
     "text": [
      "---------------------------------  ------------  ------------  ------------  ------------  ------------  ------------  ------------  ------------  \n",
      "                             Name    Self CPU %      Self CPU   CPU total %     CPU total  CPU time avg       CPU Mem  Self CPU Mem    # of Calls  \n",
      "---------------------------------  ------------  ------------  ------------  ------------  ------------  ------------  ------------  ------------  \n",
      "                  model_inference        13.01%      16.077ms       100.00%     123.578ms     123.578ms           0 b      -2.57 Mb             1  \n",
      "                     aten::conv2d         1.23%       1.524ms        56.98%      70.412ms       5.416ms       1.05 Mb           0 b            13  \n",
      "                aten::convolution         0.85%       1.048ms        55.74%      68.888ms       5.299ms       1.05 Mb           0 b            13  \n",
      "               aten::_convolution         3.10%       3.827ms        54.90%      67.840ms       5.218ms       1.05 Mb           0 b            13  \n",
      "         aten::mkldnn_convolution        31.19%      38.544ms        31.23%      38.592ms      19.296ms     384.00 Kb           0 b             2  \n",
      "                aten::thnn_conv2d         0.91%       1.121ms        19.00%      23.479ms       2.134ms     696.00 Kb           0 b            11  \n",
      "       aten::_slow_conv2d_forward        17.16%      21.208ms        18.09%      22.358ms       2.033ms     696.00 Kb      -2.86 Mb            11  \n",
      "                     aten::linear         0.83%       1.025ms        17.94%      22.176ms       7.392ms      32.39 Kb           0 b             3  \n",
      "                      aten::addmm        15.71%      19.412ms        17.03%      21.040ms       7.013ms      32.39 Kb      32.39 Kb             3  \n",
      "                 aten::batch_norm         0.19%     235.000us         4.39%       5.422ms     417.077us       1.05 Mb      64.00 Kb            13  \n",
      "---------------------------------  ------------  ------------  ------------  ------------  ------------  ------------  ------------  ------------  \n",
      "Self CPU time total: 123.578ms\n",
      "\n"
     ]
    }
   ],
   "source": [
    "print(prof.key_averages().table(sort_by=\"cpu_time_total\", row_limit=10))"
   ]
  },
  {
   "cell_type": "code",
   "execution_count": 9,
   "id": "608d8b22-97ae-43fd-91e5-28a0371e10c1",
   "metadata": {
    "tags": []
   },
   "outputs": [
    {
     "name": "stderr",
     "output_type": "stream",
     "text": [
      "/home/studio-lab-user/.conda/envs/default/lib/python3.9/site-packages/torch/_utils.py:314: UserWarning: TypedStorage is deprecated. It will be removed in the future and UntypedStorage will be the only storage class. This should only matter to you if you are using storages directly.  To access UntypedStorage directly, use tensor.untyped_storage() instead of tensor.storage()\n",
      "  device=storage.device,\n"
     ]
    },
    {
     "data": {
      "text/plain": [
       "<All keys matched successfully>"
      ]
     },
     "execution_count": 9,
     "metadata": {},
     "output_type": "execute_result"
    }
   ],
   "source": [
    "model = copy.deepcopy(net)\n",
    "    \n",
    "model_int8 = torch.quantization.quantize_dynamic(\n",
    "model,  # the original model\n",
    "{torch.nn.Linear, torch.nn.Sequential},  # a set of layers to dynamically quantize\n",
    "dtype=torch.qint8)  # the target dtype for quantized weights\n",
    "\n",
    "model_int8.to('cpu')\n",
    "\n",
    "# Load state_dict\n",
    "model_int8.load_state_dict(torch.load('model_quantization_int8.pth', map_location = torch.device('cpu')))\n"
   ]
  },
  {
   "cell_type": "code",
   "execution_count": 10,
   "id": "c1527734-b203-4bec-b8d4-1cba3c87408b",
   "metadata": {
    "tags": []
   },
   "outputs": [
    {
     "name": "stderr",
     "output_type": "stream",
     "text": [
      "STAGE:2023-07-30 16:31:43 122:122 ActivityProfilerController.cpp:311] Completed Stage: Warm Up\n",
      "STAGE:2023-07-30 16:31:43 122:122 ActivityProfilerController.cpp:317] Completed Stage: Collection\n",
      "STAGE:2023-07-30 16:31:43 122:122 ActivityProfilerController.cpp:321] Completed Stage: Post Processing\n"
     ]
    }
   ],
   "source": [
    "with profile(activities=[ProfilerActivity.CPU], record_shapes=True, profile_memory=True) as prof:\n",
    "    with record_function(\"model_quan_inference\"):\n",
    "        model_int8(torch.rand(1,3,32,32))"
   ]
  },
  {
   "cell_type": "code",
   "execution_count": 11,
   "id": "623fa506-601f-4a82-bc6b-d59ba193ed02",
   "metadata": {
    "tags": []
   },
   "outputs": [
    {
     "name": "stdout",
     "output_type": "stream",
     "text": [
      "---------------------------------  ------------  ------------  ------------  ------------  ------------  ------------  ------------  ------------  \n",
      "                             Name    Self CPU %      Self CPU   CPU total %     CPU total  CPU time avg       CPU Mem  Self CPU Mem    # of Calls  \n",
      "---------------------------------  ------------  ------------  ------------  ------------  ------------  ------------  ------------  ------------  \n",
      "             model_quan_inference        31.50%      14.191ms       100.00%      45.054ms      45.054ms           0 b      -2.51 Mb             1  \n",
      "                     aten::conv2d         0.14%      64.000us        40.25%      18.136ms       1.395ms       1.05 Mb           0 b            13  \n",
      "                aten::convolution         0.66%     298.000us        40.11%      18.072ms       1.390ms       1.05 Mb           0 b            13  \n",
      "               aten::_convolution         0.36%     160.000us        39.45%      17.774ms       1.367ms       1.05 Mb           0 b            13  \n",
      "                aten::thnn_conv2d         0.09%      41.000us        36.12%      16.274ms       1.479ms     696.00 Kb           0 b            11  \n",
      "       aten::_slow_conv2d_forward        33.73%      15.197ms        36.03%      16.233ms       1.476ms     696.00 Kb      -2.92 Mb            11  \n",
      "        quantized::linear_dynamic        19.69%       8.870ms        21.53%       9.698ms       3.233ms      32.39 Kb     -32.39 Kb             3  \n",
      "                 aten::batch_norm         0.10%      45.000us         3.48%       1.567ms     120.538us       1.05 Mb           0 b            13  \n",
      "     aten::_batch_norm_impl_index         0.26%     115.000us         3.38%       1.522ms     117.077us       1.05 Mb           0 b            13  \n",
      "          aten::native_batch_norm         2.63%       1.186ms         3.03%       1.367ms     105.154us       1.05 Mb     -32.50 Kb            13  \n",
      "---------------------------------  ------------  ------------  ------------  ------------  ------------  ------------  ------------  ------------  \n",
      "Self CPU time total: 45.054ms\n",
      "\n"
     ]
    }
   ],
   "source": [
    "print(prof.key_averages().table(sort_by=\"cpu_time_total\", row_limit=10))"
   ]
  },
  {
   "cell_type": "code",
   "execution_count": 12,
   "id": "d47c7255-8e2f-44b3-ba68-742751123b6f",
   "metadata": {
    "tags": []
   },
   "outputs": [],
   "source": [
    "def test_model(model, name='model_inference'):\n",
    "    model.eval()\n",
    "\n",
    "    correct_1 = 0.0\n",
    "    correct_5 = 0.0\n",
    "    total = 0\n",
    "    acc = 0.0\n",
    "    with torch.no_grad():\n",
    "        with profile(activities=[ProfilerActivity.CPU], record_shapes=True, profile_memory=True) as prof:\n",
    "            with record_function(name):\n",
    "                for n_iter, (image, label) in enumerate(cifar100_test_loader):\n",
    "                    _ = model(image)\n",
    "                 \n",
    "\n",
    "    # if args.gpu:\n",
    "    #     print('GPU INFO.....')\n",
    "    #     print(torch.cuda.memory_summary(), end='')\n",
    "\n",
    "    print(prof.key_averages().table(sort_by=\"cpu_time_total\", row_limit=10))\n"
   ]
  },
  {
   "cell_type": "code",
   "execution_count": 13,
   "id": "42e7b75a-f70a-4902-87b9-15cc052d53a9",
   "metadata": {
    "scrolled": true,
    "tags": []
   },
   "outputs": [
    {
     "name": "stderr",
     "output_type": "stream",
     "text": [
      "STAGE:2023-07-30 16:31:43 122:122 ActivityProfilerController.cpp:311] Completed Stage: Warm Up\n",
      "STAGE:2023-07-30 16:32:49 122:122 ActivityProfilerController.cpp:317] Completed Stage: Collection\n",
      "STAGE:2023-07-30 16:32:49 122:122 ActivityProfilerController.cpp:321] Completed Stage: Post Processing\n"
     ]
    },
    {
     "name": "stdout",
     "output_type": "stream",
     "text": [
      "-------------------------------------------------------  ------------  ------------  ------------  ------------  ------------  ------------  ------------  ------------  \n",
      "                                                   Name    Self CPU %      Self CPU   CPU total %     CPU total  CPU time avg       CPU Mem  Self CPU Mem    # of Calls  \n",
      "-------------------------------------------------------  ------------  ------------  ------------  ------------  ------------  ------------  ------------  ------------  \n",
      "                                        model_inference         1.73%        1.136s       100.00%       65.756s       65.756s     198.38 Kb     -22.19 Gb             1  \n",
      "                                           aten::conv2d         0.02%      13.443ms        78.29%       51.480s      50.126ms      10.30 Gb           0 b          1027  \n",
      "                                      aten::convolution         0.02%      16.421ms        78.27%       51.466s      50.113ms      10.30 Gb           0 b          1027  \n",
      "                                     aten::_convolution         0.03%      22.632ms        78.24%       51.450s      50.097ms      10.30 Gb           0 b          1027  \n",
      "                               aten::mkldnn_convolution        78.13%       51.378s        78.21%       51.427s      50.075ms      10.30 Gb           0 b          1027  \n",
      "                                       aten::max_pool2d         0.01%       9.609ms         6.49%        4.268s      10.805ms       1.16 Gb      -2.33 Gb           395  \n",
      "                          aten::max_pool2d_with_indices         6.48%        4.258s         6.48%        4.258s      10.781ms       3.49 Gb       3.49 Gb           395  \n",
      "                                       aten::batch_norm         0.01%       8.132ms         5.92%        3.892s       3.790ms      10.30 Gb           0 b          1027  \n",
      "                           aten::_batch_norm_impl_index         0.03%      16.844ms         5.91%        3.884s       3.782ms      10.30 Gb           0 b          1027  \n",
      "                                aten::native_batch_norm         5.83%        3.832s         5.87%        3.860s       3.759ms      10.30 Gb      -2.39 Mb          1027  \n",
      "-------------------------------------------------------  ------------  ------------  ------------  ------------  ------------  ------------  ------------  ------------  \n",
      "Self CPU time total: 65.756s\n",
      "\n"
     ]
    }
   ],
   "source": [
    "test_model(net)"
   ]
  },
  {
   "cell_type": "code",
   "execution_count": 14,
   "id": "7245356f-d3dd-42b0-9ccb-3f8aec20ca7f",
   "metadata": {
    "scrolled": true,
    "tags": []
   },
   "outputs": [
    {
     "name": "stderr",
     "output_type": "stream",
     "text": [
      "STAGE:2023-07-30 16:32:52 122:122 ActivityProfilerController.cpp:311] Completed Stage: Warm Up\n",
      "STAGE:2023-07-30 16:33:52 122:122 ActivityProfilerController.cpp:317] Completed Stage: Collection\n",
      "STAGE:2023-07-30 16:33:52 122:122 ActivityProfilerController.cpp:321] Completed Stage: Post Processing\n"
     ]
    },
    {
     "name": "stdout",
     "output_type": "stream",
     "text": [
      "-------------------------------------------------------  ------------  ------------  ------------  ------------  ------------  ------------  ------------  ------------  \n",
      "                                                   Name    Self CPU %      Self CPU   CPU total %     CPU total  CPU time avg       CPU Mem  Self CPU Mem    # of Calls  \n",
      "-------------------------------------------------------  ------------  ------------  ------------  ------------  ------------  ------------  ------------  ------------  \n",
      "                                                     ok         1.61%     965.402ms       100.00%       59.890s       59.890s     198.38 Kb     -22.19 Gb             1  \n",
      "                                           aten::conv2d         0.02%      11.751ms        82.06%       49.143s      47.851ms      10.30 Gb           0 b          1027  \n",
      "                                      aten::convolution         0.03%      18.591ms        82.04%       49.131s      47.840ms      10.30 Gb           0 b          1027  \n",
      "                                     aten::_convolution         0.04%      24.933ms        82.01%       49.113s      47.822ms      10.30 Gb           0 b          1027  \n",
      "                               aten::mkldnn_convolution        81.89%       49.041s        81.96%       49.088s      47.797ms      10.30 Gb           0 b          1027  \n",
      "                                       aten::max_pool2d         0.01%       8.361ms         6.68%        3.999s      10.123ms       1.16 Gb      -2.33 Gb           395  \n",
      "                          aten::max_pool2d_with_indices         6.66%        3.990s         6.66%        3.990s      10.102ms       3.49 Gb       3.49 Gb           395  \n",
      "                                       aten::batch_norm         0.01%       7.236ms         4.18%        2.501s       2.435ms      10.30 Gb           0 b          1027  \n",
      "                           aten::_batch_norm_impl_index         0.03%      15.535ms         4.16%        2.493s       2.428ms      10.30 Gb           0 b          1027  \n",
      "                                aten::native_batch_norm         4.09%        2.448s         4.13%        2.472s       2.407ms      10.30 Gb      -2.42 Mb          1027  \n",
      "-------------------------------------------------------  ------------  ------------  ------------  ------------  ------------  ------------  ------------  ------------  \n",
      "Self CPU time total: 59.890s\n",
      "\n"
     ]
    }
   ],
   "source": [
    "test_model(model_int8, \"ok\")"
   ]
  },
  {
   "cell_type": "code",
   "execution_count": 18,
   "id": "bce94679-80ae-4ba4-bc90-d20e9aed7e38",
   "metadata": {},
   "outputs": [
    {
     "name": "stdout",
     "output_type": "stream",
     "text": [
      "Requirement already satisfied: matplotlib in /home/studio-lab-user/.conda/envs/default/lib/python3.9/site-packages (3.7.2)\n",
      "Requirement already satisfied: cycler>=0.10 in /home/studio-lab-user/.conda/envs/default/lib/python3.9/site-packages (from matplotlib) (0.11.0)\n",
      "Requirement already satisfied: python-dateutil>=2.7 in /home/studio-lab-user/.conda/envs/default/lib/python3.9/site-packages (from matplotlib) (2.8.2)\n",
      "Requirement already satisfied: importlib-resources>=3.2.0 in /home/studio-lab-user/.conda/envs/default/lib/python3.9/site-packages (from matplotlib) (5.12.0)\n",
      "Requirement already satisfied: fonttools>=4.22.0 in /home/studio-lab-user/.conda/envs/default/lib/python3.9/site-packages (from matplotlib) (4.41.1)\n",
      "Requirement already satisfied: numpy>=1.20 in /home/studio-lab-user/.conda/envs/default/lib/python3.9/site-packages (from matplotlib) (1.25.1)\n",
      "Requirement already satisfied: kiwisolver>=1.0.1 in /home/studio-lab-user/.conda/envs/default/lib/python3.9/site-packages (from matplotlib) (1.4.4)\n",
      "Requirement already satisfied: pillow>=6.2.0 in /home/studio-lab-user/.conda/envs/default/lib/python3.9/site-packages (from matplotlib) (10.0.0)\n",
      "Requirement already satisfied: pyparsing<3.1,>=2.3.1 in /home/studio-lab-user/.conda/envs/default/lib/python3.9/site-packages (from matplotlib) (3.0.9)\n",
      "Requirement already satisfied: packaging>=20.0 in /home/studio-lab-user/.conda/envs/default/lib/python3.9/site-packages (from matplotlib) (23.0)\n",
      "Requirement already satisfied: contourpy>=1.0.1 in /home/studio-lab-user/.conda/envs/default/lib/python3.9/site-packages (from matplotlib) (1.1.0)\n",
      "Requirement already satisfied: zipp>=3.1.0 in /home/studio-lab-user/.conda/envs/default/lib/python3.9/site-packages (from importlib-resources>=3.2.0->matplotlib) (3.15.0)\n",
      "Requirement already satisfied: six>=1.5 in /home/studio-lab-user/.conda/envs/default/lib/python3.9/site-packages (from python-dateutil>=2.7->matplotlib) (1.16.0)\n"
     ]
    }
   ],
   "source": [
    "!pip install matplotlib"
   ]
  },
  {
   "cell_type": "code",
   "execution_count": 19,
   "id": "3a927d29-bfdc-411e-93cc-dae337fd88c3",
   "metadata": {
    "tags": []
   },
   "outputs": [
    {
     "name": "stdout",
     "output_type": "stream",
     "text": [
      "Files already downloaded and verified\n",
      "MyCompressNet5(\n",
      "  (conv1): Conv2d(3, 64, kernel_size=(3, 3), stride=(1, 1), padding=(1, 1))\n",
      "  (bn1): BatchNorm2d(64, eps=1e-05, momentum=0.1, affine=True, track_running_stats=True)\n",
      "  (conv2): Conv2d(64, 256, kernel_size=(3, 3), stride=(1, 1), padding=(1, 1))\n",
      "  (bn2): BatchNorm2d(256, eps=1e-05, momentum=0.1, affine=True, track_running_stats=True)\n",
      "  (mp1): MaxPool2d(kernel_size=2, stride=2, padding=0, dilation=1, ceil_mode=False)\n",
      "  (conv7): Conv2d(256, 512, kernel_size=(3, 3), stride=(1, 1), padding=(1, 1))\n",
      "  (bn7): BatchNorm2d(512, eps=1e-05, momentum=0.1, affine=True, track_running_stats=True)\n",
      "  (conv8): Conv2d(512, 512, kernel_size=(1, 1), stride=(1, 1), padding=same)\n",
      "  (bn8): BatchNorm2d(512, eps=1e-05, momentum=0.1, affine=True, track_running_stats=True)\n",
      "  (conv9): Conv2d(512, 512, kernel_size=(3, 3), stride=(1, 1), padding=same)\n",
      "  (bn9): BatchNorm2d(512, eps=1e-05, momentum=0.1, affine=True, track_running_stats=True)\n",
      "  (mp2): MaxPool2d(kernel_size=2, stride=2, padding=0, dilation=1, ceil_mode=False)\n",
      "  (fc1): Linear(in_features=8192, out_features=2048, bias=True)\n",
      "  (fc2): Linear(in_features=2048, out_features=1024, bias=True)\n",
      "  (fc3): Linear(in_features=1024, out_features=1024, bias=True)\n",
      "  (fc4): Linear(in_features=1024, out_features=512, bias=True)\n",
      "  (fc5): Linear(in_features=512, out_features=256, bias=True)\n",
      "  (fc6): Linear(in_features=256, out_features=256, bias=True)\n",
      "  (fc7): Linear(in_features=256, out_features=128, bias=True)\n",
      "  (fc8): Linear(in_features=128, out_features=100, bias=True)\n",
      ")\n",
      "iteration: 1\ttotal 79 iterations\n",
      "iteration: 2\ttotal 79 iterations\n",
      "iteration: 3\ttotal 79 iterations\n",
      "iteration: 4\ttotal 79 iterations\n",
      "iteration: 5\ttotal 79 iterations\n",
      "iteration: 6\ttotal 79 iterations\n",
      "iteration: 7\ttotal 79 iterations\n",
      "iteration: 8\ttotal 79 iterations\n",
      "iteration: 9\ttotal 79 iterations\n",
      "iteration: 10\ttotal 79 iterations\n",
      "iteration: 11\ttotal 79 iterations\n",
      "iteration: 12\ttotal 79 iterations\n",
      "iteration: 13\ttotal 79 iterations\n",
      "iteration: 14\ttotal 79 iterations\n",
      "iteration: 15\ttotal 79 iterations\n",
      "iteration: 16\ttotal 79 iterations\n",
      "iteration: 17\ttotal 79 iterations\n",
      "iteration: 18\ttotal 79 iterations\n",
      "iteration: 19\ttotal 79 iterations\n",
      "iteration: 20\ttotal 79 iterations\n",
      "iteration: 21\ttotal 79 iterations\n",
      "iteration: 22\ttotal 79 iterations\n",
      "iteration: 23\ttotal 79 iterations\n",
      "iteration: 24\ttotal 79 iterations\n",
      "iteration: 25\ttotal 79 iterations\n",
      "iteration: 26\ttotal 79 iterations\n",
      "iteration: 27\ttotal 79 iterations\n",
      "iteration: 28\ttotal 79 iterations\n",
      "iteration: 29\ttotal 79 iterations\n",
      "iteration: 30\ttotal 79 iterations\n",
      "iteration: 31\ttotal 79 iterations\n",
      "iteration: 32\ttotal 79 iterations\n",
      "iteration: 33\ttotal 79 iterations\n",
      "iteration: 34\ttotal 79 iterations\n",
      "iteration: 35\ttotal 79 iterations\n",
      "iteration: 36\ttotal 79 iterations\n",
      "iteration: 37\ttotal 79 iterations\n",
      "iteration: 38\ttotal 79 iterations\n",
      "iteration: 39\ttotal 79 iterations\n",
      "iteration: 40\ttotal 79 iterations\n",
      "iteration: 41\ttotal 79 iterations\n",
      "iteration: 42\ttotal 79 iterations\n",
      "iteration: 43\ttotal 79 iterations\n",
      "iteration: 44\ttotal 79 iterations\n",
      "iteration: 45\ttotal 79 iterations\n",
      "iteration: 46\ttotal 79 iterations\n",
      "iteration: 47\ttotal 79 iterations\n",
      "iteration: 48\ttotal 79 iterations\n",
      "iteration: 49\ttotal 79 iterations\n",
      "iteration: 50\ttotal 79 iterations\n",
      "iteration: 51\ttotal 79 iterations\n",
      "iteration: 52\ttotal 79 iterations\n",
      "iteration: 53\ttotal 79 iterations\n",
      "iteration: 54\ttotal 79 iterations\n",
      "iteration: 55\ttotal 79 iterations\n",
      "iteration: 56\ttotal 79 iterations\n",
      "iteration: 57\ttotal 79 iterations\n",
      "iteration: 58\ttotal 79 iterations\n",
      "iteration: 59\ttotal 79 iterations\n",
      "iteration: 60\ttotal 79 iterations\n",
      "iteration: 61\ttotal 79 iterations\n",
      "iteration: 62\ttotal 79 iterations\n",
      "iteration: 63\ttotal 79 iterations\n",
      "iteration: 64\ttotal 79 iterations\n",
      "iteration: 65\ttotal 79 iterations\n",
      "iteration: 66\ttotal 79 iterations\n",
      "iteration: 67\ttotal 79 iterations\n",
      "iteration: 68\ttotal 79 iterations\n",
      "iteration: 69\ttotal 79 iterations\n",
      "iteration: 70\ttotal 79 iterations\n",
      "iteration: 71\ttotal 79 iterations\n",
      "iteration: 72\ttotal 79 iterations\n",
      "iteration: 73\ttotal 79 iterations\n",
      "iteration: 74\ttotal 79 iterations\n",
      "iteration: 75\ttotal 79 iterations\n",
      "iteration: 76\ttotal 79 iterations\n",
      "iteration: 77\ttotal 79 iterations\n",
      "iteration: 78\ttotal 79 iterations\n",
      "iteration: 79\ttotal 79 iterations\n",
      "\n",
      "Top 1 err:  tensor(0.5352)\n",
      "Top 5 err:  tensor(0.4143)\n",
      "acc: 0.5856999754905701\n",
      "Parameter numbers: 24650596\n"
     ]
    }
   ],
   "source": [
    "!python3 test.py -net=v5 -weights=v5-200-regular.pth -b=128"
   ]
  },
  {
   "cell_type": "code",
   "execution_count": 21,
   "id": "e781c233-b93b-4008-acd1-71cbff3d02ed",
   "metadata": {
    "tags": []
   },
   "outputs": [
    {
     "name": "stdout",
     "output_type": "stream",
     "text": [
      "Files already downloaded and verified\n",
      "MyCompressNet(\n",
      "  (conv1): Conv2d(3, 64, kernel_size=(3, 3), stride=(1, 1), padding=(1, 1))\n",
      "  (bn1): BatchNorm2d(64, eps=1e-05, momentum=0.1, affine=True, track_running_stats=True)\n",
      "  (conv2): Conv2d(64, 128, kernel_size=(3, 3), stride=(1, 1), padding=(1, 1))\n",
      "  (bn2): BatchNorm2d(128, eps=1e-05, momentum=0.1, affine=True, track_running_stats=True)\n",
      "  (conv3): Conv2d(128, 128, kernel_size=(3, 3), stride=(1, 1), padding=(1, 1))\n",
      "  (bn3): BatchNorm2d(128, eps=1e-05, momentum=0.1, affine=True, track_running_stats=True)\n",
      "  (conv4): Conv2d(128, 256, kernel_size=(3, 3), stride=(1, 1), padding=(1, 1))\n",
      "  (bn4): BatchNorm2d(256, eps=1e-05, momentum=0.1, affine=True, track_running_stats=True)\n",
      "  (conv5): Conv2d(256, 256, kernel_size=(3, 3), stride=(1, 1), padding=(1, 1))\n",
      "  (bn5): BatchNorm2d(256, eps=1e-05, momentum=0.1, affine=True, track_running_stats=True)\n",
      "  (fc1): Linear(in_features=4096, out_features=1024, bias=True)\n",
      "  (fc2): Linear(in_features=1024, out_features=256, bias=True)\n",
      "  (fc3): Linear(in_features=256, out_features=128, bias=True)\n",
      "  (fc4): Linear(in_features=128, out_features=100, bias=True)\n",
      ")\n",
      "iteration: 1\ttotal 79 iterations\n",
      "iteration: 2\ttotal 79 iterations\n",
      "iteration: 3\ttotal 79 iterations\n",
      "iteration: 4\ttotal 79 iterations\n",
      "iteration: 5\ttotal 79 iterations\n",
      "iteration: 6\ttotal 79 iterations\n",
      "iteration: 7\ttotal 79 iterations\n",
      "iteration: 8\ttotal 79 iterations\n",
      "iteration: 9\ttotal 79 iterations\n",
      "iteration: 10\ttotal 79 iterations\n",
      "iteration: 11\ttotal 79 iterations\n",
      "iteration: 12\ttotal 79 iterations\n",
      "iteration: 13\ttotal 79 iterations\n",
      "iteration: 14\ttotal 79 iterations\n",
      "iteration: 15\ttotal 79 iterations\n",
      "iteration: 16\ttotal 79 iterations\n",
      "iteration: 17\ttotal 79 iterations\n",
      "iteration: 18\ttotal 79 iterations\n",
      "iteration: 19\ttotal 79 iterations\n",
      "iteration: 20\ttotal 79 iterations\n",
      "iteration: 21\ttotal 79 iterations\n",
      "iteration: 22\ttotal 79 iterations\n",
      "iteration: 23\ttotal 79 iterations\n",
      "iteration: 24\ttotal 79 iterations\n",
      "iteration: 25\ttotal 79 iterations\n",
      "iteration: 26\ttotal 79 iterations\n",
      "iteration: 27\ttotal 79 iterations\n",
      "iteration: 28\ttotal 79 iterations\n",
      "iteration: 29\ttotal 79 iterations\n",
      "iteration: 30\ttotal 79 iterations\n",
      "iteration: 31\ttotal 79 iterations\n",
      "iteration: 32\ttotal 79 iterations\n",
      "iteration: 33\ttotal 79 iterations\n",
      "iteration: 34\ttotal 79 iterations\n",
      "iteration: 35\ttotal 79 iterations\n",
      "iteration: 36\ttotal 79 iterations\n",
      "iteration: 37\ttotal 79 iterations\n",
      "iteration: 38\ttotal 79 iterations\n",
      "iteration: 39\ttotal 79 iterations\n",
      "iteration: 40\ttotal 79 iterations\n",
      "iteration: 41\ttotal 79 iterations\n",
      "iteration: 42\ttotal 79 iterations\n",
      "iteration: 43\ttotal 79 iterations\n",
      "iteration: 44\ttotal 79 iterations\n",
      "iteration: 45\ttotal 79 iterations\n",
      "iteration: 46\ttotal 79 iterations\n",
      "iteration: 47\ttotal 79 iterations\n",
      "iteration: 48\ttotal 79 iterations\n",
      "iteration: 49\ttotal 79 iterations\n",
      "iteration: 50\ttotal 79 iterations\n",
      "iteration: 51\ttotal 79 iterations\n",
      "iteration: 52\ttotal 79 iterations\n",
      "iteration: 53\ttotal 79 iterations\n",
      "iteration: 54\ttotal 79 iterations\n",
      "iteration: 55\ttotal 79 iterations\n",
      "iteration: 56\ttotal 79 iterations\n",
      "iteration: 57\ttotal 79 iterations\n",
      "iteration: 58\ttotal 79 iterations\n",
      "iteration: 59\ttotal 79 iterations\n",
      "iteration: 60\ttotal 79 iterations\n",
      "iteration: 61\ttotal 79 iterations\n",
      "iteration: 62\ttotal 79 iterations\n",
      "iteration: 63\ttotal 79 iterations\n",
      "iteration: 64\ttotal 79 iterations\n",
      "iteration: 65\ttotal 79 iterations\n",
      "iteration: 66\ttotal 79 iterations\n",
      "iteration: 67\ttotal 79 iterations\n",
      "iteration: 68\ttotal 79 iterations\n",
      "iteration: 69\ttotal 79 iterations\n",
      "iteration: 70\ttotal 79 iterations\n",
      "iteration: 71\ttotal 79 iterations\n",
      "iteration: 72\ttotal 79 iterations\n",
      "iteration: 73\ttotal 79 iterations\n",
      "iteration: 74\ttotal 79 iterations\n",
      "iteration: 75\ttotal 79 iterations\n",
      "iteration: 76\ttotal 79 iterations\n",
      "iteration: 77\ttotal 79 iterations\n",
      "iteration: 78\ttotal 79 iterations\n",
      "iteration: 79\ttotal 79 iterations\n",
      "\n",
      "Top 1 err:  tensor(0.4159)\n",
      "Top 5 err:  tensor(0.1553)\n",
      "acc: 0.8446999788284302\n",
      "Parameter numbers: 5613668\n"
     ]
    }
   ],
   "source": [
    "!python3 test.py -net=v1 -weights=v1-200regular.pth -b=128"
   ]
  },
  {
   "cell_type": "code",
   "execution_count": null,
   "id": "6ff31702-8fb7-430d-8aac-792db570d5b2",
   "metadata": {},
   "outputs": [],
   "source": []
  }
 ],
 "metadata": {
  "kernelspec": {
   "display_name": "default:Python",
   "language": "python",
   "name": "conda-env-default-py"
  },
  "language_info": {
   "codemirror_mode": {
    "name": "ipython",
    "version": 3
   },
   "file_extension": ".py",
   "mimetype": "text/x-python",
   "name": "python",
   "nbconvert_exporter": "python",
   "pygments_lexer": "ipython3",
   "version": "3.9.16"
  }
 },
 "nbformat": 4,
 "nbformat_minor": 5
}
